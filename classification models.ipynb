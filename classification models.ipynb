{
  "nbformat": 4,
  "nbformat_minor": 0,
  "metadata": {
    "colab": {
      "provenance": []
    },
    "kernelspec": {
      "name": "python3",
      "display_name": "Python 3"
    },
    "language_info": {
      "name": "python"
    }
  },
  "cells": [
    {
      "cell_type": "markdown",
      "source": [
        "# Preprocessing"
      ],
      "metadata": {
        "id": "nadh0049_gb0"
      }
    },
    {
      "cell_type": "code",
      "execution_count": null,
      "metadata": {
        "colab": {
          "base_uri": "https://localhost:8080/"
        },
        "id": "byrHGJqZ4kvQ",
        "outputId": "953acb19-b21c-4b02-be01-c4a92e4642e1"
      },
      "outputs": [
        {
          "output_type": "stream",
          "name": "stdout",
          "text": [
            "Drive already mounted at /content/drive; to attempt to forcibly remount, call drive.mount(\"/content/drive\", force_remount=True).\n"
          ]
        }
      ],
      "source": [
        "import numpy as np\n",
        "import pandas as pd\n",
        "import seaborn as sns\n",
        "import matplotlib.pyplot as plt\n",
        "import time\n",
        "\n",
        "from xgboost import XGBClassifier\n",
        "from sklearn.model_selection import train_test_split\n",
        "from sklearn.metrics import accuracy_score\n",
        "from sklearn import svm\n",
        "from sklearn.svm import SVC\n",
        "%matplotlib inline\n",
        "\n",
        "from google.colab import drive\n",
        "drive.mount('/content/drive')"
      ]
    },
    {
      "cell_type": "markdown",
      "source": [
        "## Combine Genomic Data and Clinic Data"
      ],
      "metadata": {
        "id": "a4JmC4x3_Tn6"
      }
    },
    {
      "cell_type": "code",
      "source": [
        "input_file = 'drive/MyDrive/MSK/gene_modified.csv'\n",
        "gene = pd.read_table(input_file, sep=',')\n",
        "gene.head()"
      ],
      "metadata": {
        "colab": {
          "base_uri": "https://localhost:8080/",
          "height": 386
        },
        "id": "B29WAULE40du",
        "outputId": "79706655-16d3-4b91-b3ad-e36ccd0a515d"
      },
      "execution_count": null,
      "outputs": [
        {
          "output_type": "execute_result",
          "data": {
            "text/plain": [
              "         sample_id       1       2       3       4       5       7       8  \\\n",
              "0  TCGA-3L-AA1B-01  0.7981  1.6905  1.9068  0.7458  0.3572  4.9963  2.5034   \n",
              "1  TCGA-4N-A93T-01 -5.5534 -0.2648 -0.4676  0.7168  2.4251  5.4312 -0.6054   \n",
              "2  TCGA-4T-AA8H-01 -5.5534  0.8189  1.2713  0.7258  1.0227  3.8785  3.8294   \n",
              "3  TCGA-5M-AAT4-01 -5.5534  0.5066  2.2447  0.7753  2.8010  4.5983  2.8292   \n",
              "4  TCGA-5M-AAT5-01 -5.5534  1.1235  2.4542  2.1804  2.8737  3.7993  0.7311   \n",
              "\n",
              "       11      12  ...   20522   20523   20524   20525   20526   20527  \\\n",
              "0 -0.5022  1.5585  ...  1.2458  0.1254  1.5265  1.9041  2.1862  0.5758   \n",
              "1 -2.4195  1.5595  ... -1.4338 -0.7270 -0.6711  0.7206  2.4134 -1.1532   \n",
              "2 -2.4195  1.9697  ...  2.1326  1.3208 -1.5396  0.4724  2.0699 -1.7828   \n",
              "3 -2.4195  1.3171  ...  1.7637  2.4208  0.5327  2.7372  3.4521 -1.2117   \n",
              "4 -2.4195  4.7231  ...  2.9761  0.8180 -1.8164  1.5215  2.8586  0.6037   \n",
              "\n",
              "    20528   20529   20530   20531  \n",
              "0 -1.7449  1.2799 -2.3005  2.1609  \n",
              "1 -3.9237  0.6431 -2.5295 -2.0323  \n",
              "2 -1.0130  0.5523 -0.6071  0.1905  \n",
              "3 -2.4370  0.4180 -2.7636  0.5772  \n",
              "4 -1.6973  0.2519 -2.9194 -1.0094  \n",
              "\n",
              "[5 rows x 19211 columns]"
            ],
            "text/html": [
              "\n",
              "  <div id=\"df-1c5f1ad2-4375-4fc9-8b14-b821a2d7cd0c\">\n",
              "    <div class=\"colab-df-container\">\n",
              "      <div>\n",
              "<style scoped>\n",
              "    .dataframe tbody tr th:only-of-type {\n",
              "        vertical-align: middle;\n",
              "    }\n",
              "\n",
              "    .dataframe tbody tr th {\n",
              "        vertical-align: top;\n",
              "    }\n",
              "\n",
              "    .dataframe thead th {\n",
              "        text-align: right;\n",
              "    }\n",
              "</style>\n",
              "<table border=\"1\" class=\"dataframe\">\n",
              "  <thead>\n",
              "    <tr style=\"text-align: right;\">\n",
              "      <th></th>\n",
              "      <th>sample_id</th>\n",
              "      <th>1</th>\n",
              "      <th>2</th>\n",
              "      <th>3</th>\n",
              "      <th>4</th>\n",
              "      <th>5</th>\n",
              "      <th>7</th>\n",
              "      <th>8</th>\n",
              "      <th>11</th>\n",
              "      <th>12</th>\n",
              "      <th>...</th>\n",
              "      <th>20522</th>\n",
              "      <th>20523</th>\n",
              "      <th>20524</th>\n",
              "      <th>20525</th>\n",
              "      <th>20526</th>\n",
              "      <th>20527</th>\n",
              "      <th>20528</th>\n",
              "      <th>20529</th>\n",
              "      <th>20530</th>\n",
              "      <th>20531</th>\n",
              "    </tr>\n",
              "  </thead>\n",
              "  <tbody>\n",
              "    <tr>\n",
              "      <th>0</th>\n",
              "      <td>TCGA-3L-AA1B-01</td>\n",
              "      <td>0.7981</td>\n",
              "      <td>1.6905</td>\n",
              "      <td>1.9068</td>\n",
              "      <td>0.7458</td>\n",
              "      <td>0.3572</td>\n",
              "      <td>4.9963</td>\n",
              "      <td>2.5034</td>\n",
              "      <td>-0.5022</td>\n",
              "      <td>1.5585</td>\n",
              "      <td>...</td>\n",
              "      <td>1.2458</td>\n",
              "      <td>0.1254</td>\n",
              "      <td>1.5265</td>\n",
              "      <td>1.9041</td>\n",
              "      <td>2.1862</td>\n",
              "      <td>0.5758</td>\n",
              "      <td>-1.7449</td>\n",
              "      <td>1.2799</td>\n",
              "      <td>-2.3005</td>\n",
              "      <td>2.1609</td>\n",
              "    </tr>\n",
              "    <tr>\n",
              "      <th>1</th>\n",
              "      <td>TCGA-4N-A93T-01</td>\n",
              "      <td>-5.5534</td>\n",
              "      <td>-0.2648</td>\n",
              "      <td>-0.4676</td>\n",
              "      <td>0.7168</td>\n",
              "      <td>2.4251</td>\n",
              "      <td>5.4312</td>\n",
              "      <td>-0.6054</td>\n",
              "      <td>-2.4195</td>\n",
              "      <td>1.5595</td>\n",
              "      <td>...</td>\n",
              "      <td>-1.4338</td>\n",
              "      <td>-0.7270</td>\n",
              "      <td>-0.6711</td>\n",
              "      <td>0.7206</td>\n",
              "      <td>2.4134</td>\n",
              "      <td>-1.1532</td>\n",
              "      <td>-3.9237</td>\n",
              "      <td>0.6431</td>\n",
              "      <td>-2.5295</td>\n",
              "      <td>-2.0323</td>\n",
              "    </tr>\n",
              "    <tr>\n",
              "      <th>2</th>\n",
              "      <td>TCGA-4T-AA8H-01</td>\n",
              "      <td>-5.5534</td>\n",
              "      <td>0.8189</td>\n",
              "      <td>1.2713</td>\n",
              "      <td>0.7258</td>\n",
              "      <td>1.0227</td>\n",
              "      <td>3.8785</td>\n",
              "      <td>3.8294</td>\n",
              "      <td>-2.4195</td>\n",
              "      <td>1.9697</td>\n",
              "      <td>...</td>\n",
              "      <td>2.1326</td>\n",
              "      <td>1.3208</td>\n",
              "      <td>-1.5396</td>\n",
              "      <td>0.4724</td>\n",
              "      <td>2.0699</td>\n",
              "      <td>-1.7828</td>\n",
              "      <td>-1.0130</td>\n",
              "      <td>0.5523</td>\n",
              "      <td>-0.6071</td>\n",
              "      <td>0.1905</td>\n",
              "    </tr>\n",
              "    <tr>\n",
              "      <th>3</th>\n",
              "      <td>TCGA-5M-AAT4-01</td>\n",
              "      <td>-5.5534</td>\n",
              "      <td>0.5066</td>\n",
              "      <td>2.2447</td>\n",
              "      <td>0.7753</td>\n",
              "      <td>2.8010</td>\n",
              "      <td>4.5983</td>\n",
              "      <td>2.8292</td>\n",
              "      <td>-2.4195</td>\n",
              "      <td>1.3171</td>\n",
              "      <td>...</td>\n",
              "      <td>1.7637</td>\n",
              "      <td>2.4208</td>\n",
              "      <td>0.5327</td>\n",
              "      <td>2.7372</td>\n",
              "      <td>3.4521</td>\n",
              "      <td>-1.2117</td>\n",
              "      <td>-2.4370</td>\n",
              "      <td>0.4180</td>\n",
              "      <td>-2.7636</td>\n",
              "      <td>0.5772</td>\n",
              "    </tr>\n",
              "    <tr>\n",
              "      <th>4</th>\n",
              "      <td>TCGA-5M-AAT5-01</td>\n",
              "      <td>-5.5534</td>\n",
              "      <td>1.1235</td>\n",
              "      <td>2.4542</td>\n",
              "      <td>2.1804</td>\n",
              "      <td>2.8737</td>\n",
              "      <td>3.7993</td>\n",
              "      <td>0.7311</td>\n",
              "      <td>-2.4195</td>\n",
              "      <td>4.7231</td>\n",
              "      <td>...</td>\n",
              "      <td>2.9761</td>\n",
              "      <td>0.8180</td>\n",
              "      <td>-1.8164</td>\n",
              "      <td>1.5215</td>\n",
              "      <td>2.8586</td>\n",
              "      <td>0.6037</td>\n",
              "      <td>-1.6973</td>\n",
              "      <td>0.2519</td>\n",
              "      <td>-2.9194</td>\n",
              "      <td>-1.0094</td>\n",
              "    </tr>\n",
              "  </tbody>\n",
              "</table>\n",
              "<p>5 rows × 19211 columns</p>\n",
              "</div>\n",
              "      <button class=\"colab-df-convert\" onclick=\"convertToInteractive('df-1c5f1ad2-4375-4fc9-8b14-b821a2d7cd0c')\"\n",
              "              title=\"Convert this dataframe to an interactive table.\"\n",
              "              style=\"display:none;\">\n",
              "        \n",
              "  <svg xmlns=\"http://www.w3.org/2000/svg\" height=\"24px\"viewBox=\"0 0 24 24\"\n",
              "       width=\"24px\">\n",
              "    <path d=\"M0 0h24v24H0V0z\" fill=\"none\"/>\n",
              "    <path d=\"M18.56 5.44l.94 2.06.94-2.06 2.06-.94-2.06-.94-.94-2.06-.94 2.06-2.06.94zm-11 1L8.5 8.5l.94-2.06 2.06-.94-2.06-.94L8.5 2.5l-.94 2.06-2.06.94zm10 10l.94 2.06.94-2.06 2.06-.94-2.06-.94-.94-2.06-.94 2.06-2.06.94z\"/><path d=\"M17.41 7.96l-1.37-1.37c-.4-.4-.92-.59-1.43-.59-.52 0-1.04.2-1.43.59L10.3 9.45l-7.72 7.72c-.78.78-.78 2.05 0 2.83L4 21.41c.39.39.9.59 1.41.59.51 0 1.02-.2 1.41-.59l7.78-7.78 2.81-2.81c.8-.78.8-2.07 0-2.86zM5.41 20L4 18.59l7.72-7.72 1.47 1.35L5.41 20z\"/>\n",
              "  </svg>\n",
              "      </button>\n",
              "      \n",
              "  <style>\n",
              "    .colab-df-container {\n",
              "      display:flex;\n",
              "      flex-wrap:wrap;\n",
              "      gap: 12px;\n",
              "    }\n",
              "\n",
              "    .colab-df-convert {\n",
              "      background-color: #E8F0FE;\n",
              "      border: none;\n",
              "      border-radius: 50%;\n",
              "      cursor: pointer;\n",
              "      display: none;\n",
              "      fill: #1967D2;\n",
              "      height: 32px;\n",
              "      padding: 0 0 0 0;\n",
              "      width: 32px;\n",
              "    }\n",
              "\n",
              "    .colab-df-convert:hover {\n",
              "      background-color: #E2EBFA;\n",
              "      box-shadow: 0px 1px 2px rgba(60, 64, 67, 0.3), 0px 1px 3px 1px rgba(60, 64, 67, 0.15);\n",
              "      fill: #174EA6;\n",
              "    }\n",
              "\n",
              "    [theme=dark] .colab-df-convert {\n",
              "      background-color: #3B4455;\n",
              "      fill: #D2E3FC;\n",
              "    }\n",
              "\n",
              "    [theme=dark] .colab-df-convert:hover {\n",
              "      background-color: #434B5C;\n",
              "      box-shadow: 0px 1px 3px 1px rgba(0, 0, 0, 0.15);\n",
              "      filter: drop-shadow(0px 1px 2px rgba(0, 0, 0, 0.3));\n",
              "      fill: #FFFFFF;\n",
              "    }\n",
              "  </style>\n",
              "\n",
              "      <script>\n",
              "        const buttonEl =\n",
              "          document.querySelector('#df-1c5f1ad2-4375-4fc9-8b14-b821a2d7cd0c button.colab-df-convert');\n",
              "        buttonEl.style.display =\n",
              "          google.colab.kernel.accessAllowed ? 'block' : 'none';\n",
              "\n",
              "        async function convertToInteractive(key) {\n",
              "          const element = document.querySelector('#df-1c5f1ad2-4375-4fc9-8b14-b821a2d7cd0c');\n",
              "          const dataTable =\n",
              "            await google.colab.kernel.invokeFunction('convertToInteractive',\n",
              "                                                     [key], {});\n",
              "          if (!dataTable) return;\n",
              "\n",
              "          const docLinkHtml = 'Like what you see? Visit the ' +\n",
              "            '<a target=\"_blank\" href=https://colab.research.google.com/notebooks/data_table.ipynb>data table notebook</a>'\n",
              "            + ' to learn more about interactive tables.';\n",
              "          element.innerHTML = '';\n",
              "          dataTable['output_type'] = 'display_data';\n",
              "          await google.colab.output.renderOutput(dataTable, element);\n",
              "          const docLink = document.createElement('div');\n",
              "          docLink.innerHTML = docLinkHtml;\n",
              "          element.appendChild(docLink);\n",
              "        }\n",
              "      </script>\n",
              "    </div>\n",
              "  </div>\n",
              "  "
            ]
          },
          "metadata": {},
          "execution_count": 21
        }
      ]
    },
    {
      "cell_type": "code",
      "source": [
        "gene['PATIENT_ID'] = gene['sample_id'].str[:12]\n",
        "gene.drop('sample_id', axis =1, inplace = True)\n",
        "gene.head()"
      ],
      "metadata": {
        "id": "bxmr-MHO7ka7",
        "colab": {
          "base_uri": "https://localhost:8080/",
          "height": 386
        },
        "outputId": "ce396793-61ff-402c-9574-35df914d514a"
      },
      "execution_count": null,
      "outputs": [
        {
          "output_type": "execute_result",
          "data": {
            "text/plain": [
              "        1       2       3       4       5       7       8      11      12  \\\n",
              "0  0.7981  1.6905  1.9068  0.7458  0.3572  4.9963  2.5034 -0.5022  1.5585   \n",
              "1 -5.5534 -0.2648 -0.4676  0.7168  2.4251  5.4312 -0.6054 -2.4195  1.5595   \n",
              "2 -5.5534  0.8189  1.2713  0.7258  1.0227  3.8785  3.8294 -2.4195  1.9697   \n",
              "3 -5.5534  0.5066  2.2447  0.7753  2.8010  4.5983  2.8292 -2.4195  1.3171   \n",
              "4 -5.5534  1.1235  2.4542  2.1804  2.8737  3.7993  0.7311 -2.4195  4.7231   \n",
              "\n",
              "       13  ...   20523   20524   20525   20526   20527   20528   20529  \\\n",
              "0 -1.1044  ...  0.1254  1.5265  1.9041  2.1862  0.5758 -1.7449  1.2799   \n",
              "1 -1.1035  ... -0.7270 -0.6711  0.7206  2.4134 -1.1532 -3.9237  0.6431   \n",
              "2 -0.6859  ...  1.3208 -1.5396  0.4724  2.0699 -1.7828 -1.0130  0.5523   \n",
              "3 -2.3649  ...  2.4208  0.5327  2.7372  3.4521 -1.2117 -2.4370  0.4180   \n",
              "4 -0.7863  ...  0.8180 -1.8164  1.5215  2.8586  0.6037 -1.6973  0.2519   \n",
              "\n",
              "    20530   20531    PATIENT_ID  \n",
              "0 -2.3005  2.1609  TCGA-3L-AA1B  \n",
              "1 -2.5295 -2.0323  TCGA-4N-A93T  \n",
              "2 -0.6071  0.1905  TCGA-4T-AA8H  \n",
              "3 -2.7636  0.5772  TCGA-5M-AAT4  \n",
              "4 -2.9194 -1.0094  TCGA-5M-AAT5  \n",
              "\n",
              "[5 rows x 19211 columns]"
            ],
            "text/html": [
              "\n",
              "  <div id=\"df-6a62d933-d02c-44c5-b97a-47206854bc29\">\n",
              "    <div class=\"colab-df-container\">\n",
              "      <div>\n",
              "<style scoped>\n",
              "    .dataframe tbody tr th:only-of-type {\n",
              "        vertical-align: middle;\n",
              "    }\n",
              "\n",
              "    .dataframe tbody tr th {\n",
              "        vertical-align: top;\n",
              "    }\n",
              "\n",
              "    .dataframe thead th {\n",
              "        text-align: right;\n",
              "    }\n",
              "</style>\n",
              "<table border=\"1\" class=\"dataframe\">\n",
              "  <thead>\n",
              "    <tr style=\"text-align: right;\">\n",
              "      <th></th>\n",
              "      <th>1</th>\n",
              "      <th>2</th>\n",
              "      <th>3</th>\n",
              "      <th>4</th>\n",
              "      <th>5</th>\n",
              "      <th>7</th>\n",
              "      <th>8</th>\n",
              "      <th>11</th>\n",
              "      <th>12</th>\n",
              "      <th>13</th>\n",
              "      <th>...</th>\n",
              "      <th>20523</th>\n",
              "      <th>20524</th>\n",
              "      <th>20525</th>\n",
              "      <th>20526</th>\n",
              "      <th>20527</th>\n",
              "      <th>20528</th>\n",
              "      <th>20529</th>\n",
              "      <th>20530</th>\n",
              "      <th>20531</th>\n",
              "      <th>PATIENT_ID</th>\n",
              "    </tr>\n",
              "  </thead>\n",
              "  <tbody>\n",
              "    <tr>\n",
              "      <th>0</th>\n",
              "      <td>0.7981</td>\n",
              "      <td>1.6905</td>\n",
              "      <td>1.9068</td>\n",
              "      <td>0.7458</td>\n",
              "      <td>0.3572</td>\n",
              "      <td>4.9963</td>\n",
              "      <td>2.5034</td>\n",
              "      <td>-0.5022</td>\n",
              "      <td>1.5585</td>\n",
              "      <td>-1.1044</td>\n",
              "      <td>...</td>\n",
              "      <td>0.1254</td>\n",
              "      <td>1.5265</td>\n",
              "      <td>1.9041</td>\n",
              "      <td>2.1862</td>\n",
              "      <td>0.5758</td>\n",
              "      <td>-1.7449</td>\n",
              "      <td>1.2799</td>\n",
              "      <td>-2.3005</td>\n",
              "      <td>2.1609</td>\n",
              "      <td>TCGA-3L-AA1B</td>\n",
              "    </tr>\n",
              "    <tr>\n",
              "      <th>1</th>\n",
              "      <td>-5.5534</td>\n",
              "      <td>-0.2648</td>\n",
              "      <td>-0.4676</td>\n",
              "      <td>0.7168</td>\n",
              "      <td>2.4251</td>\n",
              "      <td>5.4312</td>\n",
              "      <td>-0.6054</td>\n",
              "      <td>-2.4195</td>\n",
              "      <td>1.5595</td>\n",
              "      <td>-1.1035</td>\n",
              "      <td>...</td>\n",
              "      <td>-0.7270</td>\n",
              "      <td>-0.6711</td>\n",
              "      <td>0.7206</td>\n",
              "      <td>2.4134</td>\n",
              "      <td>-1.1532</td>\n",
              "      <td>-3.9237</td>\n",
              "      <td>0.6431</td>\n",
              "      <td>-2.5295</td>\n",
              "      <td>-2.0323</td>\n",
              "      <td>TCGA-4N-A93T</td>\n",
              "    </tr>\n",
              "    <tr>\n",
              "      <th>2</th>\n",
              "      <td>-5.5534</td>\n",
              "      <td>0.8189</td>\n",
              "      <td>1.2713</td>\n",
              "      <td>0.7258</td>\n",
              "      <td>1.0227</td>\n",
              "      <td>3.8785</td>\n",
              "      <td>3.8294</td>\n",
              "      <td>-2.4195</td>\n",
              "      <td>1.9697</td>\n",
              "      <td>-0.6859</td>\n",
              "      <td>...</td>\n",
              "      <td>1.3208</td>\n",
              "      <td>-1.5396</td>\n",
              "      <td>0.4724</td>\n",
              "      <td>2.0699</td>\n",
              "      <td>-1.7828</td>\n",
              "      <td>-1.0130</td>\n",
              "      <td>0.5523</td>\n",
              "      <td>-0.6071</td>\n",
              "      <td>0.1905</td>\n",
              "      <td>TCGA-4T-AA8H</td>\n",
              "    </tr>\n",
              "    <tr>\n",
              "      <th>3</th>\n",
              "      <td>-5.5534</td>\n",
              "      <td>0.5066</td>\n",
              "      <td>2.2447</td>\n",
              "      <td>0.7753</td>\n",
              "      <td>2.8010</td>\n",
              "      <td>4.5983</td>\n",
              "      <td>2.8292</td>\n",
              "      <td>-2.4195</td>\n",
              "      <td>1.3171</td>\n",
              "      <td>-2.3649</td>\n",
              "      <td>...</td>\n",
              "      <td>2.4208</td>\n",
              "      <td>0.5327</td>\n",
              "      <td>2.7372</td>\n",
              "      <td>3.4521</td>\n",
              "      <td>-1.2117</td>\n",
              "      <td>-2.4370</td>\n",
              "      <td>0.4180</td>\n",
              "      <td>-2.7636</td>\n",
              "      <td>0.5772</td>\n",
              "      <td>TCGA-5M-AAT4</td>\n",
              "    </tr>\n",
              "    <tr>\n",
              "      <th>4</th>\n",
              "      <td>-5.5534</td>\n",
              "      <td>1.1235</td>\n",
              "      <td>2.4542</td>\n",
              "      <td>2.1804</td>\n",
              "      <td>2.8737</td>\n",
              "      <td>3.7993</td>\n",
              "      <td>0.7311</td>\n",
              "      <td>-2.4195</td>\n",
              "      <td>4.7231</td>\n",
              "      <td>-0.7863</td>\n",
              "      <td>...</td>\n",
              "      <td>0.8180</td>\n",
              "      <td>-1.8164</td>\n",
              "      <td>1.5215</td>\n",
              "      <td>2.8586</td>\n",
              "      <td>0.6037</td>\n",
              "      <td>-1.6973</td>\n",
              "      <td>0.2519</td>\n",
              "      <td>-2.9194</td>\n",
              "      <td>-1.0094</td>\n",
              "      <td>TCGA-5M-AAT5</td>\n",
              "    </tr>\n",
              "  </tbody>\n",
              "</table>\n",
              "<p>5 rows × 19211 columns</p>\n",
              "</div>\n",
              "      <button class=\"colab-df-convert\" onclick=\"convertToInteractive('df-6a62d933-d02c-44c5-b97a-47206854bc29')\"\n",
              "              title=\"Convert this dataframe to an interactive table.\"\n",
              "              style=\"display:none;\">\n",
              "        \n",
              "  <svg xmlns=\"http://www.w3.org/2000/svg\" height=\"24px\"viewBox=\"0 0 24 24\"\n",
              "       width=\"24px\">\n",
              "    <path d=\"M0 0h24v24H0V0z\" fill=\"none\"/>\n",
              "    <path d=\"M18.56 5.44l.94 2.06.94-2.06 2.06-.94-2.06-.94-.94-2.06-.94 2.06-2.06.94zm-11 1L8.5 8.5l.94-2.06 2.06-.94-2.06-.94L8.5 2.5l-.94 2.06-2.06.94zm10 10l.94 2.06.94-2.06 2.06-.94-2.06-.94-.94-2.06-.94 2.06-2.06.94z\"/><path d=\"M17.41 7.96l-1.37-1.37c-.4-.4-.92-.59-1.43-.59-.52 0-1.04.2-1.43.59L10.3 9.45l-7.72 7.72c-.78.78-.78 2.05 0 2.83L4 21.41c.39.39.9.59 1.41.59.51 0 1.02-.2 1.41-.59l7.78-7.78 2.81-2.81c.8-.78.8-2.07 0-2.86zM5.41 20L4 18.59l7.72-7.72 1.47 1.35L5.41 20z\"/>\n",
              "  </svg>\n",
              "      </button>\n",
              "      \n",
              "  <style>\n",
              "    .colab-df-container {\n",
              "      display:flex;\n",
              "      flex-wrap:wrap;\n",
              "      gap: 12px;\n",
              "    }\n",
              "\n",
              "    .colab-df-convert {\n",
              "      background-color: #E8F0FE;\n",
              "      border: none;\n",
              "      border-radius: 50%;\n",
              "      cursor: pointer;\n",
              "      display: none;\n",
              "      fill: #1967D2;\n",
              "      height: 32px;\n",
              "      padding: 0 0 0 0;\n",
              "      width: 32px;\n",
              "    }\n",
              "\n",
              "    .colab-df-convert:hover {\n",
              "      background-color: #E2EBFA;\n",
              "      box-shadow: 0px 1px 2px rgba(60, 64, 67, 0.3), 0px 1px 3px 1px rgba(60, 64, 67, 0.15);\n",
              "      fill: #174EA6;\n",
              "    }\n",
              "\n",
              "    [theme=dark] .colab-df-convert {\n",
              "      background-color: #3B4455;\n",
              "      fill: #D2E3FC;\n",
              "    }\n",
              "\n",
              "    [theme=dark] .colab-df-convert:hover {\n",
              "      background-color: #434B5C;\n",
              "      box-shadow: 0px 1px 3px 1px rgba(0, 0, 0, 0.15);\n",
              "      filter: drop-shadow(0px 1px 2px rgba(0, 0, 0, 0.3));\n",
              "      fill: #FFFFFF;\n",
              "    }\n",
              "  </style>\n",
              "\n",
              "      <script>\n",
              "        const buttonEl =\n",
              "          document.querySelector('#df-6a62d933-d02c-44c5-b97a-47206854bc29 button.colab-df-convert');\n",
              "        buttonEl.style.display =\n",
              "          google.colab.kernel.accessAllowed ? 'block' : 'none';\n",
              "\n",
              "        async function convertToInteractive(key) {\n",
              "          const element = document.querySelector('#df-6a62d933-d02c-44c5-b97a-47206854bc29');\n",
              "          const dataTable =\n",
              "            await google.colab.kernel.invokeFunction('convertToInteractive',\n",
              "                                                     [key], {});\n",
              "          if (!dataTable) return;\n",
              "\n",
              "          const docLinkHtml = 'Like what you see? Visit the ' +\n",
              "            '<a target=\"_blank\" href=https://colab.research.google.com/notebooks/data_table.ipynb>data table notebook</a>'\n",
              "            + ' to learn more about interactive tables.';\n",
              "          element.innerHTML = '';\n",
              "          dataTable['output_type'] = 'display_data';\n",
              "          await google.colab.output.renderOutput(dataTable, element);\n",
              "          const docLink = document.createElement('div');\n",
              "          docLink.innerHTML = docLinkHtml;\n",
              "          element.appendChild(docLink);\n",
              "        }\n",
              "      </script>\n",
              "    </div>\n",
              "  </div>\n",
              "  "
            ]
          },
          "metadata": {},
          "execution_count": 22
        }
      ]
    },
    {
      "cell_type": "code",
      "source": [
        "input_file = 'drive/MyDrive/MSK/patient_dummies.csv'\n",
        "patient = pd.read_table(input_file, sep=',')\n",
        "patient.head()"
      ],
      "metadata": {
        "colab": {
          "base_uri": "https://localhost:8080/",
          "height": 473
        },
        "id": "w8Td9kR44_I0",
        "outputId": "dea65647-d708-4730-9262-d4aa1d53ed6b"
      },
      "execution_count": null,
      "outputs": [
        {
          "output_type": "execute_result",
          "data": {
            "text/plain": [
              "     PATIENT_ID  OS_STATUS  OS_MONTHS  CANCER_TYPE_ACRONYM_COAD  \\\n",
              "0  TCGA-3L-AA1B          0  15.616267                         1   \n",
              "1  TCGA-4N-A93T          0   4.799947                         1   \n",
              "2  TCGA-4T-AA8H          0  12.657396                         1   \n",
              "3  TCGA-5M-AAT4          1   1.610941                         1   \n",
              "4  TCGA-5M-AAT6          1   9.534142                         1   \n",
              "\n",
              "   CANCER_TYPE_ACRONYM_READ  SEX_Female  SEX_Male  \\\n",
              "0                         0           1         0   \n",
              "1                         0           0         1   \n",
              "2                         0           1         0   \n",
              "3                         0           0         1   \n",
              "4                         0           1         0   \n",
              "\n",
              "   AJCC_PATHOLOGIC_TUMOR_STAGE_STAGE I  AJCC_PATHOLOGIC_TUMOR_STAGE_STAGE IA  \\\n",
              "0                                    1                                     0   \n",
              "1                                    0                                     0   \n",
              "2                                    0                                     0   \n",
              "3                                    0                                     0   \n",
              "4                                    0                                     0   \n",
              "\n",
              "   AJCC_PATHOLOGIC_TUMOR_STAGE_STAGE II  ...  \\\n",
              "0                                     0  ...   \n",
              "1                                     0  ...   \n",
              "2                                     0  ...   \n",
              "3                                     0  ...   \n",
              "4                                     0  ...   \n",
              "\n",
              "   PERSON_NEOPLASM_CANCER_STATUS_With Tumor  \\\n",
              "0                                         0   \n",
              "1                                         1   \n",
              "2                                         0   \n",
              "3                                         1   \n",
              "4                                         1   \n",
              "\n",
              "   PRIMARY_LYMPH_NODE_PRESENTATION_ASSESSMENT_No  \\\n",
              "0                                              0   \n",
              "1                                              0   \n",
              "2                                              0   \n",
              "3                                              0   \n",
              "4                                              0   \n",
              "\n",
              "   PRIMARY_LYMPH_NODE_PRESENTATION_ASSESSMENT_Yes  PRIOR_DX_No  PRIOR_DX_Yes  \\\n",
              "0                                               1            1             0   \n",
              "1                                               1            1             0   \n",
              "2                                               1            1             0   \n",
              "3                                               1            1             0   \n",
              "4                                               1            1             0   \n",
              "\n",
              "   PRIOR_DX_Yes, History Of Synchronous And Or Bilateral Malignancy  \\\n",
              "0                                                  0                  \n",
              "1                                                  0                  \n",
              "2                                                  0                  \n",
              "3                                                  0                  \n",
              "4                                                  0                  \n",
              "\n",
              "   IN_PANCANPATHWAYS_FREEZE_No  IN_PANCANPATHWAYS_FREEZE_Yes  AGE_bin_<65  \\\n",
              "0                            0                             1            1   \n",
              "1                            0                             1            1   \n",
              "2                            0                             1            1   \n",
              "3                            0                             1            0   \n",
              "4                            0                             1            1   \n",
              "\n",
              "   AGE_bin_>=65  \n",
              "0             0  \n",
              "1             0  \n",
              "2             0  \n",
              "3             1  \n",
              "4             0  \n",
              "\n",
              "[5 rows x 65 columns]"
            ],
            "text/html": [
              "\n",
              "  <div id=\"df-c913905d-eb68-454a-b750-83a6ce4ac619\">\n",
              "    <div class=\"colab-df-container\">\n",
              "      <div>\n",
              "<style scoped>\n",
              "    .dataframe tbody tr th:only-of-type {\n",
              "        vertical-align: middle;\n",
              "    }\n",
              "\n",
              "    .dataframe tbody tr th {\n",
              "        vertical-align: top;\n",
              "    }\n",
              "\n",
              "    .dataframe thead th {\n",
              "        text-align: right;\n",
              "    }\n",
              "</style>\n",
              "<table border=\"1\" class=\"dataframe\">\n",
              "  <thead>\n",
              "    <tr style=\"text-align: right;\">\n",
              "      <th></th>\n",
              "      <th>PATIENT_ID</th>\n",
              "      <th>OS_STATUS</th>\n",
              "      <th>OS_MONTHS</th>\n",
              "      <th>CANCER_TYPE_ACRONYM_COAD</th>\n",
              "      <th>CANCER_TYPE_ACRONYM_READ</th>\n",
              "      <th>SEX_Female</th>\n",
              "      <th>SEX_Male</th>\n",
              "      <th>AJCC_PATHOLOGIC_TUMOR_STAGE_STAGE I</th>\n",
              "      <th>AJCC_PATHOLOGIC_TUMOR_STAGE_STAGE IA</th>\n",
              "      <th>AJCC_PATHOLOGIC_TUMOR_STAGE_STAGE II</th>\n",
              "      <th>...</th>\n",
              "      <th>PERSON_NEOPLASM_CANCER_STATUS_With Tumor</th>\n",
              "      <th>PRIMARY_LYMPH_NODE_PRESENTATION_ASSESSMENT_No</th>\n",
              "      <th>PRIMARY_LYMPH_NODE_PRESENTATION_ASSESSMENT_Yes</th>\n",
              "      <th>PRIOR_DX_No</th>\n",
              "      <th>PRIOR_DX_Yes</th>\n",
              "      <th>PRIOR_DX_Yes, History Of Synchronous And Or Bilateral Malignancy</th>\n",
              "      <th>IN_PANCANPATHWAYS_FREEZE_No</th>\n",
              "      <th>IN_PANCANPATHWAYS_FREEZE_Yes</th>\n",
              "      <th>AGE_bin_&lt;65</th>\n",
              "      <th>AGE_bin_&gt;=65</th>\n",
              "    </tr>\n",
              "  </thead>\n",
              "  <tbody>\n",
              "    <tr>\n",
              "      <th>0</th>\n",
              "      <td>TCGA-3L-AA1B</td>\n",
              "      <td>0</td>\n",
              "      <td>15.616267</td>\n",
              "      <td>1</td>\n",
              "      <td>0</td>\n",
              "      <td>1</td>\n",
              "      <td>0</td>\n",
              "      <td>1</td>\n",
              "      <td>0</td>\n",
              "      <td>0</td>\n",
              "      <td>...</td>\n",
              "      <td>0</td>\n",
              "      <td>0</td>\n",
              "      <td>1</td>\n",
              "      <td>1</td>\n",
              "      <td>0</td>\n",
              "      <td>0</td>\n",
              "      <td>0</td>\n",
              "      <td>1</td>\n",
              "      <td>1</td>\n",
              "      <td>0</td>\n",
              "    </tr>\n",
              "    <tr>\n",
              "      <th>1</th>\n",
              "      <td>TCGA-4N-A93T</td>\n",
              "      <td>0</td>\n",
              "      <td>4.799947</td>\n",
              "      <td>1</td>\n",
              "      <td>0</td>\n",
              "      <td>0</td>\n",
              "      <td>1</td>\n",
              "      <td>0</td>\n",
              "      <td>0</td>\n",
              "      <td>0</td>\n",
              "      <td>...</td>\n",
              "      <td>1</td>\n",
              "      <td>0</td>\n",
              "      <td>1</td>\n",
              "      <td>1</td>\n",
              "      <td>0</td>\n",
              "      <td>0</td>\n",
              "      <td>0</td>\n",
              "      <td>1</td>\n",
              "      <td>1</td>\n",
              "      <td>0</td>\n",
              "    </tr>\n",
              "    <tr>\n",
              "      <th>2</th>\n",
              "      <td>TCGA-4T-AA8H</td>\n",
              "      <td>0</td>\n",
              "      <td>12.657396</td>\n",
              "      <td>1</td>\n",
              "      <td>0</td>\n",
              "      <td>1</td>\n",
              "      <td>0</td>\n",
              "      <td>0</td>\n",
              "      <td>0</td>\n",
              "      <td>0</td>\n",
              "      <td>...</td>\n",
              "      <td>0</td>\n",
              "      <td>0</td>\n",
              "      <td>1</td>\n",
              "      <td>1</td>\n",
              "      <td>0</td>\n",
              "      <td>0</td>\n",
              "      <td>0</td>\n",
              "      <td>1</td>\n",
              "      <td>1</td>\n",
              "      <td>0</td>\n",
              "    </tr>\n",
              "    <tr>\n",
              "      <th>3</th>\n",
              "      <td>TCGA-5M-AAT4</td>\n",
              "      <td>1</td>\n",
              "      <td>1.610941</td>\n",
              "      <td>1</td>\n",
              "      <td>0</td>\n",
              "      <td>0</td>\n",
              "      <td>1</td>\n",
              "      <td>0</td>\n",
              "      <td>0</td>\n",
              "      <td>0</td>\n",
              "      <td>...</td>\n",
              "      <td>1</td>\n",
              "      <td>0</td>\n",
              "      <td>1</td>\n",
              "      <td>1</td>\n",
              "      <td>0</td>\n",
              "      <td>0</td>\n",
              "      <td>0</td>\n",
              "      <td>1</td>\n",
              "      <td>0</td>\n",
              "      <td>1</td>\n",
              "    </tr>\n",
              "    <tr>\n",
              "      <th>4</th>\n",
              "      <td>TCGA-5M-AAT6</td>\n",
              "      <td>1</td>\n",
              "      <td>9.534142</td>\n",
              "      <td>1</td>\n",
              "      <td>0</td>\n",
              "      <td>1</td>\n",
              "      <td>0</td>\n",
              "      <td>0</td>\n",
              "      <td>0</td>\n",
              "      <td>0</td>\n",
              "      <td>...</td>\n",
              "      <td>1</td>\n",
              "      <td>0</td>\n",
              "      <td>1</td>\n",
              "      <td>1</td>\n",
              "      <td>0</td>\n",
              "      <td>0</td>\n",
              "      <td>0</td>\n",
              "      <td>1</td>\n",
              "      <td>1</td>\n",
              "      <td>0</td>\n",
              "    </tr>\n",
              "  </tbody>\n",
              "</table>\n",
              "<p>5 rows × 65 columns</p>\n",
              "</div>\n",
              "      <button class=\"colab-df-convert\" onclick=\"convertToInteractive('df-c913905d-eb68-454a-b750-83a6ce4ac619')\"\n",
              "              title=\"Convert this dataframe to an interactive table.\"\n",
              "              style=\"display:none;\">\n",
              "        \n",
              "  <svg xmlns=\"http://www.w3.org/2000/svg\" height=\"24px\"viewBox=\"0 0 24 24\"\n",
              "       width=\"24px\">\n",
              "    <path d=\"M0 0h24v24H0V0z\" fill=\"none\"/>\n",
              "    <path d=\"M18.56 5.44l.94 2.06.94-2.06 2.06-.94-2.06-.94-.94-2.06-.94 2.06-2.06.94zm-11 1L8.5 8.5l.94-2.06 2.06-.94-2.06-.94L8.5 2.5l-.94 2.06-2.06.94zm10 10l.94 2.06.94-2.06 2.06-.94-2.06-.94-.94-2.06-.94 2.06-2.06.94z\"/><path d=\"M17.41 7.96l-1.37-1.37c-.4-.4-.92-.59-1.43-.59-.52 0-1.04.2-1.43.59L10.3 9.45l-7.72 7.72c-.78.78-.78 2.05 0 2.83L4 21.41c.39.39.9.59 1.41.59.51 0 1.02-.2 1.41-.59l7.78-7.78 2.81-2.81c.8-.78.8-2.07 0-2.86zM5.41 20L4 18.59l7.72-7.72 1.47 1.35L5.41 20z\"/>\n",
              "  </svg>\n",
              "      </button>\n",
              "      \n",
              "  <style>\n",
              "    .colab-df-container {\n",
              "      display:flex;\n",
              "      flex-wrap:wrap;\n",
              "      gap: 12px;\n",
              "    }\n",
              "\n",
              "    .colab-df-convert {\n",
              "      background-color: #E8F0FE;\n",
              "      border: none;\n",
              "      border-radius: 50%;\n",
              "      cursor: pointer;\n",
              "      display: none;\n",
              "      fill: #1967D2;\n",
              "      height: 32px;\n",
              "      padding: 0 0 0 0;\n",
              "      width: 32px;\n",
              "    }\n",
              "\n",
              "    .colab-df-convert:hover {\n",
              "      background-color: #E2EBFA;\n",
              "      box-shadow: 0px 1px 2px rgba(60, 64, 67, 0.3), 0px 1px 3px 1px rgba(60, 64, 67, 0.15);\n",
              "      fill: #174EA6;\n",
              "    }\n",
              "\n",
              "    [theme=dark] .colab-df-convert {\n",
              "      background-color: #3B4455;\n",
              "      fill: #D2E3FC;\n",
              "    }\n",
              "\n",
              "    [theme=dark] .colab-df-convert:hover {\n",
              "      background-color: #434B5C;\n",
              "      box-shadow: 0px 1px 3px 1px rgba(0, 0, 0, 0.15);\n",
              "      filter: drop-shadow(0px 1px 2px rgba(0, 0, 0, 0.3));\n",
              "      fill: #FFFFFF;\n",
              "    }\n",
              "  </style>\n",
              "\n",
              "      <script>\n",
              "        const buttonEl =\n",
              "          document.querySelector('#df-c913905d-eb68-454a-b750-83a6ce4ac619 button.colab-df-convert');\n",
              "        buttonEl.style.display =\n",
              "          google.colab.kernel.accessAllowed ? 'block' : 'none';\n",
              "\n",
              "        async function convertToInteractive(key) {\n",
              "          const element = document.querySelector('#df-c913905d-eb68-454a-b750-83a6ce4ac619');\n",
              "          const dataTable =\n",
              "            await google.colab.kernel.invokeFunction('convertToInteractive',\n",
              "                                                     [key], {});\n",
              "          if (!dataTable) return;\n",
              "\n",
              "          const docLinkHtml = 'Like what you see? Visit the ' +\n",
              "            '<a target=\"_blank\" href=https://colab.research.google.com/notebooks/data_table.ipynb>data table notebook</a>'\n",
              "            + ' to learn more about interactive tables.';\n",
              "          element.innerHTML = '';\n",
              "          dataTable['output_type'] = 'display_data';\n",
              "          await google.colab.output.renderOutput(dataTable, element);\n",
              "          const docLink = document.createElement('div');\n",
              "          docLink.innerHTML = docLinkHtml;\n",
              "          element.appendChild(docLink);\n",
              "        }\n",
              "      </script>\n",
              "    </div>\n",
              "  </div>\n",
              "  "
            ]
          },
          "metadata": {},
          "execution_count": 23
        }
      ]
    },
    {
      "cell_type": "code",
      "source": [
        "columns = ['PATIENT_ID', 'OS_STATUS',\t'OS_MONTHS', 'PATH_M_STAGE_M0', 'AJCC_PATHOLOGIC_TUMOR_STAGE_STAGE IV', 'PATH_T_STAGE_T4', 'PATH_N_STAGE_N2', 'AGE_bin_>=65', 'PERSON_NEOPLASM_CANCER_STATUS_With Tumor', 'AGE_bin_<65', 'PERSON_NEOPLASM_CANCER_STATUS_Tumor Free', 'AJCC_PATHOLOGIC_TUMOR_STAGE_STAGE I', 'AJCC_PATHOLOGIC_TUMOR_STAGE_STAGE IIIC', 'PATH_T_STAGE_T4A', 'PATH_M_STAGE_M1B', 'ICD_10_C18.7', 'PATH_N_STAGE_N0', 'PATH_T_STAGE_T2', 'ICD_10_C18.2']\n",
        "patient1 = patient[columns]"
      ],
      "metadata": {
        "id": "CcoXAdui5XhG"
      },
      "execution_count": null,
      "outputs": []
    },
    {
      "cell_type": "code",
      "source": [
        "patient1.head()"
      ],
      "metadata": {
        "colab": {
          "base_uri": "https://localhost:8080/",
          "height": 374
        },
        "id": "suPVsUe-6-rF",
        "outputId": "aaef79a8-8685-436a-f14e-62935954a776"
      },
      "execution_count": null,
      "outputs": [
        {
          "output_type": "execute_result",
          "data": {
            "text/plain": [
              "     PATIENT_ID  OS_STATUS  OS_MONTHS  PATH_M_STAGE_M0  \\\n",
              "0  TCGA-3L-AA1B          0  15.616267                1   \n",
              "1  TCGA-4N-A93T          0   4.799947                1   \n",
              "2  TCGA-4T-AA8H          0  12.657396                0   \n",
              "3  TCGA-5M-AAT4          1   1.610941                0   \n",
              "4  TCGA-5M-AAT6          1   9.534142                0   \n",
              "\n",
              "   AJCC_PATHOLOGIC_TUMOR_STAGE_STAGE IV  PATH_T_STAGE_T4  PATH_N_STAGE_N2  \\\n",
              "0                                     0                0                0   \n",
              "1                                     0                0                0   \n",
              "2                                     0                0                0   \n",
              "3                                     1                0                0   \n",
              "4                                     1                0                0   \n",
              "\n",
              "   AGE_bin_>=65  PERSON_NEOPLASM_CANCER_STATUS_With Tumor  AGE_bin_<65  \\\n",
              "0             0                                         0            1   \n",
              "1             0                                         1            1   \n",
              "2             0                                         0            1   \n",
              "3             1                                         1            0   \n",
              "4             0                                         1            1   \n",
              "\n",
              "   PERSON_NEOPLASM_CANCER_STATUS_Tumor Free  \\\n",
              "0                                         1   \n",
              "1                                         0   \n",
              "2                                         1   \n",
              "3                                         0   \n",
              "4                                         0   \n",
              "\n",
              "   AJCC_PATHOLOGIC_TUMOR_STAGE_STAGE I  \\\n",
              "0                                    1   \n",
              "1                                    0   \n",
              "2                                    0   \n",
              "3                                    0   \n",
              "4                                    0   \n",
              "\n",
              "   AJCC_PATHOLOGIC_TUMOR_STAGE_STAGE IIIC  PATH_T_STAGE_T4A  PATH_M_STAGE_M1B  \\\n",
              "0                                       0                 0                 0   \n",
              "1                                       0                 1                 0   \n",
              "2                                       0                 0                 0   \n",
              "3                                       0                 0                 1   \n",
              "4                                       0                 1                 0   \n",
              "\n",
              "   ICD_10_C18.7  PATH_N_STAGE_N0  PATH_T_STAGE_T2  ICD_10_C18.2  \n",
              "0             0                1                1             0  \n",
              "1             0                0                0             1  \n",
              "2             0                1                0             0  \n",
              "3             0                1                0             1  \n",
              "4             0                0                0             1  "
            ],
            "text/html": [
              "\n",
              "  <div id=\"df-7e8a9862-3c4d-4d36-83a5-ce963d572ee0\">\n",
              "    <div class=\"colab-df-container\">\n",
              "      <div>\n",
              "<style scoped>\n",
              "    .dataframe tbody tr th:only-of-type {\n",
              "        vertical-align: middle;\n",
              "    }\n",
              "\n",
              "    .dataframe tbody tr th {\n",
              "        vertical-align: top;\n",
              "    }\n",
              "\n",
              "    .dataframe thead th {\n",
              "        text-align: right;\n",
              "    }\n",
              "</style>\n",
              "<table border=\"1\" class=\"dataframe\">\n",
              "  <thead>\n",
              "    <tr style=\"text-align: right;\">\n",
              "      <th></th>\n",
              "      <th>PATIENT_ID</th>\n",
              "      <th>OS_STATUS</th>\n",
              "      <th>OS_MONTHS</th>\n",
              "      <th>PATH_M_STAGE_M0</th>\n",
              "      <th>AJCC_PATHOLOGIC_TUMOR_STAGE_STAGE IV</th>\n",
              "      <th>PATH_T_STAGE_T4</th>\n",
              "      <th>PATH_N_STAGE_N2</th>\n",
              "      <th>AGE_bin_&gt;=65</th>\n",
              "      <th>PERSON_NEOPLASM_CANCER_STATUS_With Tumor</th>\n",
              "      <th>AGE_bin_&lt;65</th>\n",
              "      <th>PERSON_NEOPLASM_CANCER_STATUS_Tumor Free</th>\n",
              "      <th>AJCC_PATHOLOGIC_TUMOR_STAGE_STAGE I</th>\n",
              "      <th>AJCC_PATHOLOGIC_TUMOR_STAGE_STAGE IIIC</th>\n",
              "      <th>PATH_T_STAGE_T4A</th>\n",
              "      <th>PATH_M_STAGE_M1B</th>\n",
              "      <th>ICD_10_C18.7</th>\n",
              "      <th>PATH_N_STAGE_N0</th>\n",
              "      <th>PATH_T_STAGE_T2</th>\n",
              "      <th>ICD_10_C18.2</th>\n",
              "    </tr>\n",
              "  </thead>\n",
              "  <tbody>\n",
              "    <tr>\n",
              "      <th>0</th>\n",
              "      <td>TCGA-3L-AA1B</td>\n",
              "      <td>0</td>\n",
              "      <td>15.616267</td>\n",
              "      <td>1</td>\n",
              "      <td>0</td>\n",
              "      <td>0</td>\n",
              "      <td>0</td>\n",
              "      <td>0</td>\n",
              "      <td>0</td>\n",
              "      <td>1</td>\n",
              "      <td>1</td>\n",
              "      <td>1</td>\n",
              "      <td>0</td>\n",
              "      <td>0</td>\n",
              "      <td>0</td>\n",
              "      <td>0</td>\n",
              "      <td>1</td>\n",
              "      <td>1</td>\n",
              "      <td>0</td>\n",
              "    </tr>\n",
              "    <tr>\n",
              "      <th>1</th>\n",
              "      <td>TCGA-4N-A93T</td>\n",
              "      <td>0</td>\n",
              "      <td>4.799947</td>\n",
              "      <td>1</td>\n",
              "      <td>0</td>\n",
              "      <td>0</td>\n",
              "      <td>0</td>\n",
              "      <td>0</td>\n",
              "      <td>1</td>\n",
              "      <td>1</td>\n",
              "      <td>0</td>\n",
              "      <td>0</td>\n",
              "      <td>0</td>\n",
              "      <td>1</td>\n",
              "      <td>0</td>\n",
              "      <td>0</td>\n",
              "      <td>0</td>\n",
              "      <td>0</td>\n",
              "      <td>1</td>\n",
              "    </tr>\n",
              "    <tr>\n",
              "      <th>2</th>\n",
              "      <td>TCGA-4T-AA8H</td>\n",
              "      <td>0</td>\n",
              "      <td>12.657396</td>\n",
              "      <td>0</td>\n",
              "      <td>0</td>\n",
              "      <td>0</td>\n",
              "      <td>0</td>\n",
              "      <td>0</td>\n",
              "      <td>0</td>\n",
              "      <td>1</td>\n",
              "      <td>1</td>\n",
              "      <td>0</td>\n",
              "      <td>0</td>\n",
              "      <td>0</td>\n",
              "      <td>0</td>\n",
              "      <td>0</td>\n",
              "      <td>1</td>\n",
              "      <td>0</td>\n",
              "      <td>0</td>\n",
              "    </tr>\n",
              "    <tr>\n",
              "      <th>3</th>\n",
              "      <td>TCGA-5M-AAT4</td>\n",
              "      <td>1</td>\n",
              "      <td>1.610941</td>\n",
              "      <td>0</td>\n",
              "      <td>1</td>\n",
              "      <td>0</td>\n",
              "      <td>0</td>\n",
              "      <td>1</td>\n",
              "      <td>1</td>\n",
              "      <td>0</td>\n",
              "      <td>0</td>\n",
              "      <td>0</td>\n",
              "      <td>0</td>\n",
              "      <td>0</td>\n",
              "      <td>1</td>\n",
              "      <td>0</td>\n",
              "      <td>1</td>\n",
              "      <td>0</td>\n",
              "      <td>1</td>\n",
              "    </tr>\n",
              "    <tr>\n",
              "      <th>4</th>\n",
              "      <td>TCGA-5M-AAT6</td>\n",
              "      <td>1</td>\n",
              "      <td>9.534142</td>\n",
              "      <td>0</td>\n",
              "      <td>1</td>\n",
              "      <td>0</td>\n",
              "      <td>0</td>\n",
              "      <td>0</td>\n",
              "      <td>1</td>\n",
              "      <td>1</td>\n",
              "      <td>0</td>\n",
              "      <td>0</td>\n",
              "      <td>0</td>\n",
              "      <td>1</td>\n",
              "      <td>0</td>\n",
              "      <td>0</td>\n",
              "      <td>0</td>\n",
              "      <td>0</td>\n",
              "      <td>1</td>\n",
              "    </tr>\n",
              "  </tbody>\n",
              "</table>\n",
              "</div>\n",
              "      <button class=\"colab-df-convert\" onclick=\"convertToInteractive('df-7e8a9862-3c4d-4d36-83a5-ce963d572ee0')\"\n",
              "              title=\"Convert this dataframe to an interactive table.\"\n",
              "              style=\"display:none;\">\n",
              "        \n",
              "  <svg xmlns=\"http://www.w3.org/2000/svg\" height=\"24px\"viewBox=\"0 0 24 24\"\n",
              "       width=\"24px\">\n",
              "    <path d=\"M0 0h24v24H0V0z\" fill=\"none\"/>\n",
              "    <path d=\"M18.56 5.44l.94 2.06.94-2.06 2.06-.94-2.06-.94-.94-2.06-.94 2.06-2.06.94zm-11 1L8.5 8.5l.94-2.06 2.06-.94-2.06-.94L8.5 2.5l-.94 2.06-2.06.94zm10 10l.94 2.06.94-2.06 2.06-.94-2.06-.94-.94-2.06-.94 2.06-2.06.94z\"/><path d=\"M17.41 7.96l-1.37-1.37c-.4-.4-.92-.59-1.43-.59-.52 0-1.04.2-1.43.59L10.3 9.45l-7.72 7.72c-.78.78-.78 2.05 0 2.83L4 21.41c.39.39.9.59 1.41.59.51 0 1.02-.2 1.41-.59l7.78-7.78 2.81-2.81c.8-.78.8-2.07 0-2.86zM5.41 20L4 18.59l7.72-7.72 1.47 1.35L5.41 20z\"/>\n",
              "  </svg>\n",
              "      </button>\n",
              "      \n",
              "  <style>\n",
              "    .colab-df-container {\n",
              "      display:flex;\n",
              "      flex-wrap:wrap;\n",
              "      gap: 12px;\n",
              "    }\n",
              "\n",
              "    .colab-df-convert {\n",
              "      background-color: #E8F0FE;\n",
              "      border: none;\n",
              "      border-radius: 50%;\n",
              "      cursor: pointer;\n",
              "      display: none;\n",
              "      fill: #1967D2;\n",
              "      height: 32px;\n",
              "      padding: 0 0 0 0;\n",
              "      width: 32px;\n",
              "    }\n",
              "\n",
              "    .colab-df-convert:hover {\n",
              "      background-color: #E2EBFA;\n",
              "      box-shadow: 0px 1px 2px rgba(60, 64, 67, 0.3), 0px 1px 3px 1px rgba(60, 64, 67, 0.15);\n",
              "      fill: #174EA6;\n",
              "    }\n",
              "\n",
              "    [theme=dark] .colab-df-convert {\n",
              "      background-color: #3B4455;\n",
              "      fill: #D2E3FC;\n",
              "    }\n",
              "\n",
              "    [theme=dark] .colab-df-convert:hover {\n",
              "      background-color: #434B5C;\n",
              "      box-shadow: 0px 1px 3px 1px rgba(0, 0, 0, 0.15);\n",
              "      filter: drop-shadow(0px 1px 2px rgba(0, 0, 0, 0.3));\n",
              "      fill: #FFFFFF;\n",
              "    }\n",
              "  </style>\n",
              "\n",
              "      <script>\n",
              "        const buttonEl =\n",
              "          document.querySelector('#df-7e8a9862-3c4d-4d36-83a5-ce963d572ee0 button.colab-df-convert');\n",
              "        buttonEl.style.display =\n",
              "          google.colab.kernel.accessAllowed ? 'block' : 'none';\n",
              "\n",
              "        async function convertToInteractive(key) {\n",
              "          const element = document.querySelector('#df-7e8a9862-3c4d-4d36-83a5-ce963d572ee0');\n",
              "          const dataTable =\n",
              "            await google.colab.kernel.invokeFunction('convertToInteractive',\n",
              "                                                     [key], {});\n",
              "          if (!dataTable) return;\n",
              "\n",
              "          const docLinkHtml = 'Like what you see? Visit the ' +\n",
              "            '<a target=\"_blank\" href=https://colab.research.google.com/notebooks/data_table.ipynb>data table notebook</a>'\n",
              "            + ' to learn more about interactive tables.';\n",
              "          element.innerHTML = '';\n",
              "          dataTable['output_type'] = 'display_data';\n",
              "          await google.colab.output.renderOutput(dataTable, element);\n",
              "          const docLink = document.createElement('div');\n",
              "          docLink.innerHTML = docLinkHtml;\n",
              "          element.appendChild(docLink);\n",
              "        }\n",
              "      </script>\n",
              "    </div>\n",
              "  </div>\n",
              "  "
            ]
          },
          "metadata": {},
          "execution_count": 25
        }
      ]
    },
    {
      "cell_type": "code",
      "source": [
        "patient1['OS_STATUS'].dtype"
      ],
      "metadata": {
        "colab": {
          "base_uri": "https://localhost:8080/"
        },
        "id": "weII7cjQAZZy",
        "outputId": "c8c41e53-465c-4590-b106-d96133856032"
      },
      "execution_count": null,
      "outputs": [
        {
          "output_type": "execute_result",
          "data": {
            "text/plain": [
              "dtype('int64')"
            ]
          },
          "metadata": {},
          "execution_count": 26
        }
      ]
    },
    {
      "cell_type": "code",
      "source": [
        "comb = pd.merge(gene, patient1, on='PATIENT_ID')\n"
      ],
      "metadata": {
        "id": "dPdaTUUc7_bb"
      },
      "execution_count": null,
      "outputs": []
    },
    {
      "cell_type": "code",
      "source": [
        "comb.set_index('PATIENT_ID', inplace=True)"
      ],
      "metadata": {
        "id": "RfwPjxxf7gZB"
      },
      "execution_count": null,
      "outputs": []
    },
    {
      "cell_type": "code",
      "source": [
        "comb.rename(columns={\"AGE_bin_<65\": \"AGE_less_65\", \"AGE_bin_>=65\": \"AGE_larger_65\"}, inplace = True)"
      ],
      "metadata": {
        "id": "mfrOl9lvFhZ4"
      },
      "execution_count": null,
      "outputs": []
    },
    {
      "cell_type": "code",
      "source": [
        "comb.head()"
      ],
      "metadata": {
        "colab": {
          "base_uri": "https://localhost:8080/",
          "height": 435
        },
        "id": "E4mV04VKFVMC",
        "outputId": "82c2545e-d08f-4f04-d534-bc59b681de18"
      },
      "execution_count": null,
      "outputs": [
        {
          "output_type": "execute_result",
          "data": {
            "text/plain": [
              "                   1       2       3       4       5       7       8      11  \\\n",
              "PATIENT_ID                                                                     \n",
              "TCGA-3L-AA1B  0.7981  1.6905  1.9068  0.7458  0.3572  4.9963  2.5034 -0.5022   \n",
              "TCGA-4N-A93T -5.5534 -0.2648 -0.4676  0.7168  2.4251  5.4312 -0.6054 -2.4195   \n",
              "TCGA-4T-AA8H -5.5534  0.8189  1.2713  0.7258  1.0227  3.8785  3.8294 -2.4195   \n",
              "TCGA-5M-AAT4 -5.5534  0.5066  2.2447  0.7753  2.8010  4.5983  2.8292 -2.4195   \n",
              "TCGA-5M-AAT6 -5.5534 -0.4049  1.8196  1.8444  1.3267  2.9882  1.4178  1.6551   \n",
              "\n",
              "                  12      13  ...  AGE_less_65  \\\n",
              "PATIENT_ID                    ...                \n",
              "TCGA-3L-AA1B  1.5585 -1.1044  ...            1   \n",
              "TCGA-4N-A93T  1.5595 -1.1035  ...            1   \n",
              "TCGA-4T-AA8H  1.9697 -0.6859  ...            1   \n",
              "TCGA-5M-AAT4  1.3171 -2.3649  ...            0   \n",
              "TCGA-5M-AAT6  3.0239 -0.8844  ...            1   \n",
              "\n",
              "              PERSON_NEOPLASM_CANCER_STATUS_Tumor Free  \\\n",
              "PATIENT_ID                                               \n",
              "TCGA-3L-AA1B                                         1   \n",
              "TCGA-4N-A93T                                         0   \n",
              "TCGA-4T-AA8H                                         1   \n",
              "TCGA-5M-AAT4                                         0   \n",
              "TCGA-5M-AAT6                                         0   \n",
              "\n",
              "              AJCC_PATHOLOGIC_TUMOR_STAGE_STAGE I  \\\n",
              "PATIENT_ID                                          \n",
              "TCGA-3L-AA1B                                    1   \n",
              "TCGA-4N-A93T                                    0   \n",
              "TCGA-4T-AA8H                                    0   \n",
              "TCGA-5M-AAT4                                    0   \n",
              "TCGA-5M-AAT6                                    0   \n",
              "\n",
              "              AJCC_PATHOLOGIC_TUMOR_STAGE_STAGE IIIC  PATH_T_STAGE_T4A  \\\n",
              "PATIENT_ID                                                               \n",
              "TCGA-3L-AA1B                                       0                 0   \n",
              "TCGA-4N-A93T                                       0                 1   \n",
              "TCGA-4T-AA8H                                       0                 0   \n",
              "TCGA-5M-AAT4                                       0                 0   \n",
              "TCGA-5M-AAT6                                       0                 1   \n",
              "\n",
              "              PATH_M_STAGE_M1B  ICD_10_C18.7  PATH_N_STAGE_N0  \\\n",
              "PATIENT_ID                                                      \n",
              "TCGA-3L-AA1B                 0             0                1   \n",
              "TCGA-4N-A93T                 0             0                0   \n",
              "TCGA-4T-AA8H                 0             0                1   \n",
              "TCGA-5M-AAT4                 1             0                1   \n",
              "TCGA-5M-AAT6                 0             0                0   \n",
              "\n",
              "              PATH_T_STAGE_T2  ICD_10_C18.2  \n",
              "PATIENT_ID                                   \n",
              "TCGA-3L-AA1B                1             0  \n",
              "TCGA-4N-A93T                0             1  \n",
              "TCGA-4T-AA8H                0             0  \n",
              "TCGA-5M-AAT4                0             1  \n",
              "TCGA-5M-AAT6                0             1  \n",
              "\n",
              "[5 rows x 19228 columns]"
            ],
            "text/html": [
              "\n",
              "  <div id=\"df-002d4c68-79b9-4c4c-8637-509b035568d1\">\n",
              "    <div class=\"colab-df-container\">\n",
              "      <div>\n",
              "<style scoped>\n",
              "    .dataframe tbody tr th:only-of-type {\n",
              "        vertical-align: middle;\n",
              "    }\n",
              "\n",
              "    .dataframe tbody tr th {\n",
              "        vertical-align: top;\n",
              "    }\n",
              "\n",
              "    .dataframe thead th {\n",
              "        text-align: right;\n",
              "    }\n",
              "</style>\n",
              "<table border=\"1\" class=\"dataframe\">\n",
              "  <thead>\n",
              "    <tr style=\"text-align: right;\">\n",
              "      <th></th>\n",
              "      <th>1</th>\n",
              "      <th>2</th>\n",
              "      <th>3</th>\n",
              "      <th>4</th>\n",
              "      <th>5</th>\n",
              "      <th>7</th>\n",
              "      <th>8</th>\n",
              "      <th>11</th>\n",
              "      <th>12</th>\n",
              "      <th>13</th>\n",
              "      <th>...</th>\n",
              "      <th>AGE_less_65</th>\n",
              "      <th>PERSON_NEOPLASM_CANCER_STATUS_Tumor Free</th>\n",
              "      <th>AJCC_PATHOLOGIC_TUMOR_STAGE_STAGE I</th>\n",
              "      <th>AJCC_PATHOLOGIC_TUMOR_STAGE_STAGE IIIC</th>\n",
              "      <th>PATH_T_STAGE_T4A</th>\n",
              "      <th>PATH_M_STAGE_M1B</th>\n",
              "      <th>ICD_10_C18.7</th>\n",
              "      <th>PATH_N_STAGE_N0</th>\n",
              "      <th>PATH_T_STAGE_T2</th>\n",
              "      <th>ICD_10_C18.2</th>\n",
              "    </tr>\n",
              "    <tr>\n",
              "      <th>PATIENT_ID</th>\n",
              "      <th></th>\n",
              "      <th></th>\n",
              "      <th></th>\n",
              "      <th></th>\n",
              "      <th></th>\n",
              "      <th></th>\n",
              "      <th></th>\n",
              "      <th></th>\n",
              "      <th></th>\n",
              "      <th></th>\n",
              "      <th></th>\n",
              "      <th></th>\n",
              "      <th></th>\n",
              "      <th></th>\n",
              "      <th></th>\n",
              "      <th></th>\n",
              "      <th></th>\n",
              "      <th></th>\n",
              "      <th></th>\n",
              "      <th></th>\n",
              "      <th></th>\n",
              "    </tr>\n",
              "  </thead>\n",
              "  <tbody>\n",
              "    <tr>\n",
              "      <th>TCGA-3L-AA1B</th>\n",
              "      <td>0.7981</td>\n",
              "      <td>1.6905</td>\n",
              "      <td>1.9068</td>\n",
              "      <td>0.7458</td>\n",
              "      <td>0.3572</td>\n",
              "      <td>4.9963</td>\n",
              "      <td>2.5034</td>\n",
              "      <td>-0.5022</td>\n",
              "      <td>1.5585</td>\n",
              "      <td>-1.1044</td>\n",
              "      <td>...</td>\n",
              "      <td>1</td>\n",
              "      <td>1</td>\n",
              "      <td>1</td>\n",
              "      <td>0</td>\n",
              "      <td>0</td>\n",
              "      <td>0</td>\n",
              "      <td>0</td>\n",
              "      <td>1</td>\n",
              "      <td>1</td>\n",
              "      <td>0</td>\n",
              "    </tr>\n",
              "    <tr>\n",
              "      <th>TCGA-4N-A93T</th>\n",
              "      <td>-5.5534</td>\n",
              "      <td>-0.2648</td>\n",
              "      <td>-0.4676</td>\n",
              "      <td>0.7168</td>\n",
              "      <td>2.4251</td>\n",
              "      <td>5.4312</td>\n",
              "      <td>-0.6054</td>\n",
              "      <td>-2.4195</td>\n",
              "      <td>1.5595</td>\n",
              "      <td>-1.1035</td>\n",
              "      <td>...</td>\n",
              "      <td>1</td>\n",
              "      <td>0</td>\n",
              "      <td>0</td>\n",
              "      <td>0</td>\n",
              "      <td>1</td>\n",
              "      <td>0</td>\n",
              "      <td>0</td>\n",
              "      <td>0</td>\n",
              "      <td>0</td>\n",
              "      <td>1</td>\n",
              "    </tr>\n",
              "    <tr>\n",
              "      <th>TCGA-4T-AA8H</th>\n",
              "      <td>-5.5534</td>\n",
              "      <td>0.8189</td>\n",
              "      <td>1.2713</td>\n",
              "      <td>0.7258</td>\n",
              "      <td>1.0227</td>\n",
              "      <td>3.8785</td>\n",
              "      <td>3.8294</td>\n",
              "      <td>-2.4195</td>\n",
              "      <td>1.9697</td>\n",
              "      <td>-0.6859</td>\n",
              "      <td>...</td>\n",
              "      <td>1</td>\n",
              "      <td>1</td>\n",
              "      <td>0</td>\n",
              "      <td>0</td>\n",
              "      <td>0</td>\n",
              "      <td>0</td>\n",
              "      <td>0</td>\n",
              "      <td>1</td>\n",
              "      <td>0</td>\n",
              "      <td>0</td>\n",
              "    </tr>\n",
              "    <tr>\n",
              "      <th>TCGA-5M-AAT4</th>\n",
              "      <td>-5.5534</td>\n",
              "      <td>0.5066</td>\n",
              "      <td>2.2447</td>\n",
              "      <td>0.7753</td>\n",
              "      <td>2.8010</td>\n",
              "      <td>4.5983</td>\n",
              "      <td>2.8292</td>\n",
              "      <td>-2.4195</td>\n",
              "      <td>1.3171</td>\n",
              "      <td>-2.3649</td>\n",
              "      <td>...</td>\n",
              "      <td>0</td>\n",
              "      <td>0</td>\n",
              "      <td>0</td>\n",
              "      <td>0</td>\n",
              "      <td>0</td>\n",
              "      <td>1</td>\n",
              "      <td>0</td>\n",
              "      <td>1</td>\n",
              "      <td>0</td>\n",
              "      <td>1</td>\n",
              "    </tr>\n",
              "    <tr>\n",
              "      <th>TCGA-5M-AAT6</th>\n",
              "      <td>-5.5534</td>\n",
              "      <td>-0.4049</td>\n",
              "      <td>1.8196</td>\n",
              "      <td>1.8444</td>\n",
              "      <td>1.3267</td>\n",
              "      <td>2.9882</td>\n",
              "      <td>1.4178</td>\n",
              "      <td>1.6551</td>\n",
              "      <td>3.0239</td>\n",
              "      <td>-0.8844</td>\n",
              "      <td>...</td>\n",
              "      <td>1</td>\n",
              "      <td>0</td>\n",
              "      <td>0</td>\n",
              "      <td>0</td>\n",
              "      <td>1</td>\n",
              "      <td>0</td>\n",
              "      <td>0</td>\n",
              "      <td>0</td>\n",
              "      <td>0</td>\n",
              "      <td>1</td>\n",
              "    </tr>\n",
              "  </tbody>\n",
              "</table>\n",
              "<p>5 rows × 19228 columns</p>\n",
              "</div>\n",
              "      <button class=\"colab-df-convert\" onclick=\"convertToInteractive('df-002d4c68-79b9-4c4c-8637-509b035568d1')\"\n",
              "              title=\"Convert this dataframe to an interactive table.\"\n",
              "              style=\"display:none;\">\n",
              "        \n",
              "  <svg xmlns=\"http://www.w3.org/2000/svg\" height=\"24px\"viewBox=\"0 0 24 24\"\n",
              "       width=\"24px\">\n",
              "    <path d=\"M0 0h24v24H0V0z\" fill=\"none\"/>\n",
              "    <path d=\"M18.56 5.44l.94 2.06.94-2.06 2.06-.94-2.06-.94-.94-2.06-.94 2.06-2.06.94zm-11 1L8.5 8.5l.94-2.06 2.06-.94-2.06-.94L8.5 2.5l-.94 2.06-2.06.94zm10 10l.94 2.06.94-2.06 2.06-.94-2.06-.94-.94-2.06-.94 2.06-2.06.94z\"/><path d=\"M17.41 7.96l-1.37-1.37c-.4-.4-.92-.59-1.43-.59-.52 0-1.04.2-1.43.59L10.3 9.45l-7.72 7.72c-.78.78-.78 2.05 0 2.83L4 21.41c.39.39.9.59 1.41.59.51 0 1.02-.2 1.41-.59l7.78-7.78 2.81-2.81c.8-.78.8-2.07 0-2.86zM5.41 20L4 18.59l7.72-7.72 1.47 1.35L5.41 20z\"/>\n",
              "  </svg>\n",
              "      </button>\n",
              "      \n",
              "  <style>\n",
              "    .colab-df-container {\n",
              "      display:flex;\n",
              "      flex-wrap:wrap;\n",
              "      gap: 12px;\n",
              "    }\n",
              "\n",
              "    .colab-df-convert {\n",
              "      background-color: #E8F0FE;\n",
              "      border: none;\n",
              "      border-radius: 50%;\n",
              "      cursor: pointer;\n",
              "      display: none;\n",
              "      fill: #1967D2;\n",
              "      height: 32px;\n",
              "      padding: 0 0 0 0;\n",
              "      width: 32px;\n",
              "    }\n",
              "\n",
              "    .colab-df-convert:hover {\n",
              "      background-color: #E2EBFA;\n",
              "      box-shadow: 0px 1px 2px rgba(60, 64, 67, 0.3), 0px 1px 3px 1px rgba(60, 64, 67, 0.15);\n",
              "      fill: #174EA6;\n",
              "    }\n",
              "\n",
              "    [theme=dark] .colab-df-convert {\n",
              "      background-color: #3B4455;\n",
              "      fill: #D2E3FC;\n",
              "    }\n",
              "\n",
              "    [theme=dark] .colab-df-convert:hover {\n",
              "      background-color: #434B5C;\n",
              "      box-shadow: 0px 1px 3px 1px rgba(0, 0, 0, 0.15);\n",
              "      filter: drop-shadow(0px 1px 2px rgba(0, 0, 0, 0.3));\n",
              "      fill: #FFFFFF;\n",
              "    }\n",
              "  </style>\n",
              "\n",
              "      <script>\n",
              "        const buttonEl =\n",
              "          document.querySelector('#df-002d4c68-79b9-4c4c-8637-509b035568d1 button.colab-df-convert');\n",
              "        buttonEl.style.display =\n",
              "          google.colab.kernel.accessAllowed ? 'block' : 'none';\n",
              "\n",
              "        async function convertToInteractive(key) {\n",
              "          const element = document.querySelector('#df-002d4c68-79b9-4c4c-8637-509b035568d1');\n",
              "          const dataTable =\n",
              "            await google.colab.kernel.invokeFunction('convertToInteractive',\n",
              "                                                     [key], {});\n",
              "          if (!dataTable) return;\n",
              "\n",
              "          const docLinkHtml = 'Like what you see? Visit the ' +\n",
              "            '<a target=\"_blank\" href=https://colab.research.google.com/notebooks/data_table.ipynb>data table notebook</a>'\n",
              "            + ' to learn more about interactive tables.';\n",
              "          element.innerHTML = '';\n",
              "          dataTable['output_type'] = 'display_data';\n",
              "          await google.colab.output.renderOutput(dataTable, element);\n",
              "          const docLink = document.createElement('div');\n",
              "          docLink.innerHTML = docLinkHtml;\n",
              "          element.appendChild(docLink);\n",
              "        }\n",
              "      </script>\n",
              "    </div>\n",
              "  </div>\n",
              "  "
            ]
          },
          "metadata": {},
          "execution_count": 30
        }
      ]
    },
    {
      "cell_type": "code",
      "source": [
        "! pip install -U imbalanced-learn"
      ],
      "metadata": {
        "colab": {
          "base_uri": "https://localhost:8080/"
        },
        "id": "4UphNE-T84kA",
        "outputId": "3ec5fbb2-b5f6-46c0-d3e3-2c9f09e753e1"
      },
      "execution_count": null,
      "outputs": [
        {
          "output_type": "stream",
          "name": "stdout",
          "text": [
            "Looking in indexes: https://pypi.org/simple, https://us-python.pkg.dev/colab-wheels/public/simple/\n",
            "Requirement already satisfied: imbalanced-learn in /usr/local/lib/python3.8/dist-packages (0.10.0)\n",
            "Requirement already satisfied: scikit-learn>=1.0.2 in /usr/local/lib/python3.8/dist-packages (from imbalanced-learn) (1.2.0)\n",
            "Requirement already satisfied: scipy>=1.3.2 in /usr/local/lib/python3.8/dist-packages (from imbalanced-learn) (1.7.3)\n",
            "Requirement already satisfied: threadpoolctl>=2.0.0 in /usr/local/lib/python3.8/dist-packages (from imbalanced-learn) (3.1.0)\n",
            "Requirement already satisfied: numpy>=1.17.3 in /usr/local/lib/python3.8/dist-packages (from imbalanced-learn) (1.21.6)\n",
            "Requirement already satisfied: joblib>=1.1.1 in /usr/local/lib/python3.8/dist-packages (from imbalanced-learn) (1.2.0)\n"
          ]
        }
      ]
    },
    {
      "cell_type": "markdown",
      "source": [
        "# Classification Models (SVM & XGBoost)"
      ],
      "metadata": {
        "id": "Q4u0upD6XEhh"
      }
    },
    {
      "cell_type": "markdown",
      "source": [
        "## SVM"
      ],
      "metadata": {
        "id": "KwxwZMsnQcn2"
      }
    },
    {
      "cell_type": "code",
      "source": [
        "features = comb.drop(['OS_STATUS'], axis=1)\n",
        "status = comb['OS_STATUS']"
      ],
      "metadata": {
        "id": "uBnyhHtkRebB"
      },
      "execution_count": null,
      "outputs": []
    },
    {
      "cell_type": "code",
      "source": [
        "from sklearn.svm import SVC\n",
        "train_f, test_f, train_s, test_s = train_test_split(features, status, test_size=0.33, random_state=0)\n",
        "\n",
        "svm = SVC(probability=True)\n",
        "svm.fit(train_f, train_s)\n",
        "\n",
        "test_predict = svm.predict(test_f)\n",
        "\n",
        "score = accuracy_score(test_s, test_predict)\n",
        "print(\"Accuracy: %.2f%%\" % (score * 100.0))"
      ],
      "metadata": {
        "colab": {
          "base_uri": "https://localhost:8080/"
        },
        "id": "QFe3WER7Qbpa",
        "outputId": "a56e4b65-7822-42c7-f067-8fefc71b9968"
      },
      "execution_count": null,
      "outputs": [
        {
          "output_type": "stream",
          "name": "stdout",
          "text": [
            "Accuracy: 84.28%\n"
          ]
        }
      ]
    },
    {
      "cell_type": "code",
      "source": [
        "fpr, tpr, _ = metrics.roc_curve(test_s, test_predict)\n",
        "auc = metrics.roc_auc_score(test_s, test_predict)\n",
        "\n",
        "plt.plot(fpr,tpr,label=\"AUC=\"+str(auc))\n",
        "plt.ylabel('True Positive Rate')\n",
        "plt.xlabel('False Positive Rate')\n",
        "plt.legend(loc=4)\n",
        "plt.show()"
      ],
      "metadata": {
        "colab": {
          "base_uri": "https://localhost:8080/",
          "height": 279
        },
        "id": "t6fZ4qy2S1qH",
        "outputId": "10f0a4b2-fad0-4d97-96d2-b6cbd72aa271"
      },
      "execution_count": null,
      "outputs": [
        {
          "output_type": "display_data",
          "data": {
            "text/plain": [
              "<Figure size 432x288 with 1 Axes>"
            ],
            "image/png": "[encoded data removed]"
          },
          "metadata": {
            "needs_background": "light"
          }
        }
      ]
    },
    {
      "cell_type": "code",
      "source": [
        "#Create PR Curve for Original Dataset\n",
        "from sklearn.metrics import precision_recall_curve\n",
        "\n",
        "y_score = svm.predict_proba(test_f)[:, 1]\n",
        "\n",
        "precision, recall, thresholds = precision_recall_curve(test_s, y_score)\n",
        "\n",
        "fig, ax = plt.subplots()\n",
        "ax.plot(recall, precision, color='purple')\n",
        "\n",
        "ax.set_title('Precision-Recall Curve')\n",
        "ax.set_ylabel('Precision')\n",
        "ax.set_xlabel('Recall')\n",
        "\n",
        "plt.show() "
      ],
      "metadata": {
        "colab": {
          "base_uri": "https://localhost:8080/",
          "height": 295
        },
        "id": "soKFzcyxTbSA",
        "outputId": "5a1642c1-d85b-431b-d102-8b9b9fb92859"
      },
      "execution_count": null,
      "outputs": [
        {
          "output_type": "display_data",
          "data": {
            "text/plain": [
              "<Figure size 432x288 with 1 Axes>"
            ],
            "image/png": "[encoded data removed]"
          },
          "metadata": {
            "needs_background": "light"
          }
        }
      ]
    },
    {
      "cell_type": "code",
      "source": [
        "from sklearn.metrics import ConfusionMatrixDisplay"
      ],
      "metadata": {
        "id": "5yOgGrXyUlz-"
      },
      "execution_count": null,
      "outputs": []
    },
    {
      "cell_type": "code",
      "source": [
        "np.set_printoptions(precision=2)\n",
        "\n",
        "# Plot non-normalized confusion matrix\n",
        "titles_options = [\n",
        "    (\"Confusion matrix, without normalization\", None),\n",
        "    (\"Normalized confusion matrix\", \"true\"),\n",
        "]\n",
        "for title, normalize in titles_options:\n",
        "    disp = ConfusionMatrixDisplay.from_estimator(\n",
        "        svm,\n",
        "        test_f,\n",
        "        test_s,\n",
        "        display_labels=\"Survival Status\",\n",
        "        cmap=plt.cm.Blues,\n",
        "        normalize=normalize,\n",
        "    )\n",
        "    disp.ax_.set_title(title)\n",
        "\n",
        "    print(title)\n",
        "    print(disp.confusion_matrix)\n",
        "\n",
        "plt.show()"
      ],
      "metadata": {
        "colab": {
          "base_uri": "https://localhost:8080/",
          "height": 680
        },
        "id": "_zLk_47HVYgQ",
        "outputId": "fe07fe8d-09eb-4501-bcb9-ce7e79accbb7"
      },
      "execution_count": null,
      "outputs": [
        {
          "output_type": "stream",
          "name": "stdout",
          "text": [
            "Confusion matrix, without normalization\n",
            "[[134   0]\n",
            " [ 25   0]]\n",
            "Normalized confusion matrix\n",
            "[[1. 0.]\n",
            " [1. 0.]]\n"
          ]
        },
        {
          "output_type": "display_data",
          "data": {
            "text/plain": [
              "<Figure size 432x288 with 2 Axes>"
            ],
            "image/png": "[encoded data removed]"
          },
          "metadata": {
            "needs_background": "light"
          }
        },
        {
          "output_type": "display_data",
          "data": {
            "text/plain": [
              "<Figure size 432x288 with 2 Axes>"
            ],
            "image/png": "[encoded data removed]"
          },
          "metadata": {
            "needs_background": "light"
          }
        }
      ]
    },
    {
      "cell_type": "markdown",
      "source": [
        "Rebalancing"
      ],
      "metadata": {
        "id": "oztzVx3jW56k"
      }
    },
    {
      "cell_type": "code",
      "source": [
        "status.value_counts()\n",
        "status.value_counts().plot.pie(autopct='%.2f')"
      ],
      "metadata": {
        "colab": {
          "base_uri": "https://localhost:8080/",
          "height": 266
        },
        "id": "4xg3hl15W2ib",
        "outputId": "870d3ccb-3628-4204-a58d-5897083d7943"
      },
      "execution_count": null,
      "outputs": [
        {
          "output_type": "execute_result",
          "data": {
            "text/plain": [
              "<matplotlib.axes._subplots.AxesSubplot at 0x7fad0ae93cd0>"
            ]
          },
          "metadata": {},
          "execution_count": 73
        },
        {
          "output_type": "display_data",
          "data": {
            "text/plain": [
              "<Figure size 432x288 with 1 Axes>"
            ],
            "image/png": "[encoded data removed]"
          },
          "metadata": {}
        }
      ]
    },
    {
      "cell_type": "code",
      "source": [
        "#ADASYN Oversampling\n",
        "from collections import Counter\n",
        "from sklearn.datasets import make_classification\n",
        "from imblearn.over_sampling import ADASYN \n",
        "\n",
        "print('Original dataset shape %s' % Counter(status))\n",
        "ada = ADASYN(random_state=42)\n",
        "f_res, s_res = ada.fit_resample(features, status)\n",
        "print('Resampled dataset shape %s' % Counter(s_res))\n",
        "\n",
        "ax = s_res.value_counts().plot.pie(autopct='%.2f')\n",
        "_ = ax.set_title('ADASYN')"
      ],
      "metadata": {
        "colab": {
          "base_uri": "https://localhost:8080/",
          "height": 300
        },
        "id": "hall8b7PXM48",
        "outputId": "2a82a2ec-d027-43ff-e9e6-5c45f07fbcf0"
      },
      "execution_count": null,
      "outputs": [
        {
          "output_type": "stream",
          "name": "stdout",
          "text": [
            "Original dataset shape Counter({0: 401, 1: 78})\n",
            "Resampled dataset shape Counter({1: 428, 0: 401})\n"
          ]
        },
        {
          "output_type": "display_data",
          "data": {
            "text/plain": [
              "<Figure size 432x288 with 1 Axes>"
            ],
            "image/png": "[encoded data removed]"
          },
          "metadata": {}
        }
      ]
    },
    {
      "cell_type": "code",
      "source": [
        "#Concat rebalanced dataset\n",
        "comb_new = pd.concat([f_res, s_res], axis=1)\n",
        "comb_new.head()"
      ],
      "metadata": {
        "colab": {
          "base_uri": "https://localhost:8080/",
          "height": 317
        },
        "id": "Ch3SNX8bXRaA",
        "outputId": "d935b44e-0400-4497-d38c-120428597f90"
      },
      "execution_count": null,
      "outputs": [
        {
          "output_type": "execute_result",
          "data": {
            "text/plain": [
              "        1       2       3       4       5       7       8      11      12  \\\n",
              "0  0.7981  1.6905  1.9068  0.7458  0.3572  4.9963  2.5034 -0.5022  1.5585   \n",
              "1 -5.5534 -0.2648 -0.4676  0.7168  2.4251  5.4312 -0.6054 -2.4195  1.5595   \n",
              "2 -5.5534  0.8189  1.2713  0.7258  1.0227  3.8785  3.8294 -2.4195  1.9697   \n",
              "3 -5.5534  0.5066  2.2447  0.7753  2.8010  4.5983  2.8292 -2.4195  1.3171   \n",
              "4 -5.5534 -0.4049  1.8196  1.8444  1.3267  2.9882  1.4178  1.6551  3.0239   \n",
              "\n",
              "       13  ...  PERSON_NEOPLASM_CANCER_STATUS_Tumor Free  \\\n",
              "0 -1.1044  ...                                         1   \n",
              "1 -1.1035  ...                                         0   \n",
              "2 -0.6859  ...                                         1   \n",
              "3 -2.3649  ...                                         0   \n",
              "4 -0.8844  ...                                         0   \n",
              "\n",
              "   AJCC_PATHOLOGIC_TUMOR_STAGE_STAGE I  \\\n",
              "0                                    1   \n",
              "1                                    0   \n",
              "2                                    0   \n",
              "3                                    0   \n",
              "4                                    0   \n",
              "\n",
              "   AJCC_PATHOLOGIC_TUMOR_STAGE_STAGE IIIC  PATH_T_STAGE_T4A  PATH_M_STAGE_M1B  \\\n",
              "0                                       0                 0                 0   \n",
              "1                                       0                 1                 0   \n",
              "2                                       0                 0                 0   \n",
              "3                                       0                 0                 1   \n",
              "4                                       0                 1                 0   \n",
              "\n",
              "   ICD_10_C18.7  PATH_N_STAGE_N0  PATH_T_STAGE_T2  ICD_10_C18.2  OS_STATUS  \n",
              "0             0                1                1             0          0  \n",
              "1             0                0                0             1          0  \n",
              "2             0                1                0             0          0  \n",
              "3             0                1                0             1          1  \n",
              "4             0                0                0             1          1  \n",
              "\n",
              "[5 rows x 19228 columns]"
            ],
            "text/html": [
              "\n",
              "  <div id=\"df-3e3110f6-68ee-4c6a-805b-db0df817ed29\">\n",
              "    <div class=\"colab-df-container\">\n",
              "      <div>\n",
              "<style scoped>\n",
              "    .dataframe tbody tr th:only-of-type {\n",
              "        vertical-align: middle;\n",
              "    }\n",
              "\n",
              "    .dataframe tbody tr th {\n",
              "        vertical-align: top;\n",
              "    }\n",
              "\n",
              "    .dataframe thead th {\n",
              "        text-align: right;\n",
              "    }\n",
              "</style>\n",
              "<table border=\"1\" class=\"dataframe\">\n",
              "  <thead>\n",
              "    <tr style=\"text-align: right;\">\n",
              "      <th></th>\n",
              "      <th>1</th>\n",
              "      <th>2</th>\n",
              "      <th>3</th>\n",
              "      <th>4</th>\n",
              "      <th>5</th>\n",
              "      <th>7</th>\n",
              "      <th>8</th>\n",
              "      <th>11</th>\n",
              "      <th>12</th>\n",
              "      <th>13</th>\n",
              "      <th>...</th>\n",
              "      <th>PERSON_NEOPLASM_CANCER_STATUS_Tumor Free</th>\n",
              "      <th>AJCC_PATHOLOGIC_TUMOR_STAGE_STAGE I</th>\n",
              "      <th>AJCC_PATHOLOGIC_TUMOR_STAGE_STAGE IIIC</th>\n",
              "      <th>PATH_T_STAGE_T4A</th>\n",
              "      <th>PATH_M_STAGE_M1B</th>\n",
              "      <th>ICD_10_C18.7</th>\n",
              "      <th>PATH_N_STAGE_N0</th>\n",
              "      <th>PATH_T_STAGE_T2</th>\n",
              "      <th>ICD_10_C18.2</th>\n",
              "      <th>OS_STATUS</th>\n",
              "    </tr>\n",
              "  </thead>\n",
              "  <tbody>\n",
              "    <tr>\n",
              "      <th>0</th>\n",
              "      <td>0.7981</td>\n",
              "      <td>1.6905</td>\n",
              "      <td>1.9068</td>\n",
              "      <td>0.7458</td>\n",
              "      <td>0.3572</td>\n",
              "      <td>4.9963</td>\n",
              "      <td>2.5034</td>\n",
              "      <td>-0.5022</td>\n",
              "      <td>1.5585</td>\n",
              "      <td>-1.1044</td>\n",
              "      <td>...</td>\n",
              "      <td>1</td>\n",
              "      <td>1</td>\n",
              "      <td>0</td>\n",
              "      <td>0</td>\n",
              "      <td>0</td>\n",
              "      <td>0</td>\n",
              "      <td>1</td>\n",
              "      <td>1</td>\n",
              "      <td>0</td>\n",
              "      <td>0</td>\n",
              "    </tr>\n",
              "    <tr>\n",
              "      <th>1</th>\n",
              "      <td>-5.5534</td>\n",
              "      <td>-0.2648</td>\n",
              "      <td>-0.4676</td>\n",
              "      <td>0.7168</td>\n",
              "      <td>2.4251</td>\n",
              "      <td>5.4312</td>\n",
              "      <td>-0.6054</td>\n",
              "      <td>-2.4195</td>\n",
              "      <td>1.5595</td>\n",
              "      <td>-1.1035</td>\n",
              "      <td>...</td>\n",
              "      <td>0</td>\n",
              "      <td>0</td>\n",
              "      <td>0</td>\n",
              "      <td>1</td>\n",
              "      <td>0</td>\n",
              "      <td>0</td>\n",
              "      <td>0</td>\n",
              "      <td>0</td>\n",
              "      <td>1</td>\n",
              "      <td>0</td>\n",
              "    </tr>\n",
              "    <tr>\n",
              "      <th>2</th>\n",
              "      <td>-5.5534</td>\n",
              "      <td>0.8189</td>\n",
              "      <td>1.2713</td>\n",
              "      <td>0.7258</td>\n",
              "      <td>1.0227</td>\n",
              "      <td>3.8785</td>\n",
              "      <td>3.8294</td>\n",
              "      <td>-2.4195</td>\n",
              "      <td>1.9697</td>\n",
              "      <td>-0.6859</td>\n",
              "      <td>...</td>\n",
              "      <td>1</td>\n",
              "      <td>0</td>\n",
              "      <td>0</td>\n",
              "      <td>0</td>\n",
              "      <td>0</td>\n",
              "      <td>0</td>\n",
              "      <td>1</td>\n",
              "      <td>0</td>\n",
              "      <td>0</td>\n",
              "      <td>0</td>\n",
              "    </tr>\n",
              "    <tr>\n",
              "      <th>3</th>\n",
              "      <td>-5.5534</td>\n",
              "      <td>0.5066</td>\n",
              "      <td>2.2447</td>\n",
              "      <td>0.7753</td>\n",
              "      <td>2.8010</td>\n",
              "      <td>4.5983</td>\n",
              "      <td>2.8292</td>\n",
              "      <td>-2.4195</td>\n",
              "      <td>1.3171</td>\n",
              "      <td>-2.3649</td>\n",
              "      <td>...</td>\n",
              "      <td>0</td>\n",
              "      <td>0</td>\n",
              "      <td>0</td>\n",
              "      <td>0</td>\n",
              "      <td>1</td>\n",
              "      <td>0</td>\n",
              "      <td>1</td>\n",
              "      <td>0</td>\n",
              "      <td>1</td>\n",
              "      <td>1</td>\n",
              "    </tr>\n",
              "    <tr>\n",
              "      <th>4</th>\n",
              "      <td>-5.5534</td>\n",
              "      <td>-0.4049</td>\n",
              "      <td>1.8196</td>\n",
              "      <td>1.8444</td>\n",
              "      <td>1.3267</td>\n",
              "      <td>2.9882</td>\n",
              "      <td>1.4178</td>\n",
              "      <td>1.6551</td>\n",
              "      <td>3.0239</td>\n",
              "      <td>-0.8844</td>\n",
              "      <td>...</td>\n",
              "      <td>0</td>\n",
              "      <td>0</td>\n",
              "      <td>0</td>\n",
              "      <td>1</td>\n",
              "      <td>0</td>\n",
              "      <td>0</td>\n",
              "      <td>0</td>\n",
              "      <td>0</td>\n",
              "      <td>1</td>\n",
              "      <td>1</td>\n",
              "    </tr>\n",
              "  </tbody>\n",
              "</table>\n",
              "<p>5 rows × 19228 columns</p>\n",
              "</div>\n",
              "      <button class=\"colab-df-convert\" onclick=\"convertToInteractive('df-3e3110f6-68ee-4c6a-805b-db0df817ed29')\"\n",
              "              title=\"Convert this dataframe to an interactive table.\"\n",
              "              style=\"display:none;\">\n",
              "        \n",
              "  <svg xmlns=\"http://www.w3.org/2000/svg\" height=\"24px\"viewBox=\"0 0 24 24\"\n",
              "       width=\"24px\">\n",
              "    <path d=\"M0 0h24v24H0V0z\" fill=\"none\"/>\n",
              "    <path d=\"M18.56 5.44l.94 2.06.94-2.06 2.06-.94-2.06-.94-.94-2.06-.94 2.06-2.06.94zm-11 1L8.5 8.5l.94-2.06 2.06-.94-2.06-.94L8.5 2.5l-.94 2.06-2.06.94zm10 10l.94 2.06.94-2.06 2.06-.94-2.06-.94-.94-2.06-.94 2.06-2.06.94z\"/><path d=\"M17.41 7.96l-1.37-1.37c-.4-.4-.92-.59-1.43-.59-.52 0-1.04.2-1.43.59L10.3 9.45l-7.72 7.72c-.78.78-.78 2.05 0 2.83L4 21.41c.39.39.9.59 1.41.59.51 0 1.02-.2 1.41-.59l7.78-7.78 2.81-2.81c.8-.78.8-2.07 0-2.86zM5.41 20L4 18.59l7.72-7.72 1.47 1.35L5.41 20z\"/>\n",
              "  </svg>\n",
              "      </button>\n",
              "      \n",
              "  <style>\n",
              "    .colab-df-container {\n",
              "      display:flex;\n",
              "      flex-wrap:wrap;\n",
              "      gap: 12px;\n",
              "    }\n",
              "\n",
              "    .colab-df-convert {\n",
              "      background-color: #E8F0FE;\n",
              "      border: none;\n",
              "      border-radius: 50%;\n",
              "      cursor: pointer;\n",
              "      display: none;\n",
              "      fill: #1967D2;\n",
              "      height: 32px;\n",
              "      padding: 0 0 0 0;\n",
              "      width: 32px;\n",
              "    }\n",
              "\n",
              "    .colab-df-convert:hover {\n",
              "      background-color: #E2EBFA;\n",
              "      box-shadow: 0px 1px 2px rgba(60, 64, 67, 0.3), 0px 1px 3px 1px rgba(60, 64, 67, 0.15);\n",
              "      fill: #174EA6;\n",
              "    }\n",
              "\n",
              "    [theme=dark] .colab-df-convert {\n",
              "      background-color: #3B4455;\n",
              "      fill: #D2E3FC;\n",
              "    }\n",
              "\n",
              "    [theme=dark] .colab-df-convert:hover {\n",
              "      background-color: #434B5C;\n",
              "      box-shadow: 0px 1px 3px 1px rgba(0, 0, 0, 0.15);\n",
              "      filter: drop-shadow(0px 1px 2px rgba(0, 0, 0, 0.3));\n",
              "      fill: #FFFFFF;\n",
              "    }\n",
              "  </style>\n",
              "\n",
              "      <script>\n",
              "        const buttonEl =\n",
              "          document.querySelector('#df-3e3110f6-68ee-4c6a-805b-db0df817ed29 button.colab-df-convert');\n",
              "        buttonEl.style.display =\n",
              "          google.colab.kernel.accessAllowed ? 'block' : 'none';\n",
              "\n",
              "        async function convertToInteractive(key) {\n",
              "          const element = document.querySelector('#df-3e3110f6-68ee-4c6a-805b-db0df817ed29');\n",
              "          const dataTable =\n",
              "            await google.colab.kernel.invokeFunction('convertToInteractive',\n",
              "                                                     [key], {});\n",
              "          if (!dataTable) return;\n",
              "\n",
              "          const docLinkHtml = 'Like what you see? Visit the ' +\n",
              "            '<a target=\"_blank\" href=https://colab.research.google.com/notebooks/data_table.ipynb>data table notebook</a>'\n",
              "            + ' to learn more about interactive tables.';\n",
              "          element.innerHTML = '';\n",
              "          dataTable['output_type'] = 'display_data';\n",
              "          await google.colab.output.renderOutput(dataTable, element);\n",
              "          const docLink = document.createElement('div');\n",
              "          docLink.innerHTML = docLinkHtml;\n",
              "          element.appendChild(docLink);\n",
              "        }\n",
              "      </script>\n",
              "    </div>\n",
              "  </div>\n",
              "  "
            ]
          },
          "metadata": {},
          "execution_count": 75
        }
      ]
    },
    {
      "cell_type": "code",
      "source": [
        "fn = comb_new.drop(['OS_STATUS'], axis=1)\n",
        "sn = comb_new['OS_STATUS']"
      ],
      "metadata": {
        "id": "mUAsBEEPXXDy"
      },
      "execution_count": null,
      "outputs": []
    },
    {
      "cell_type": "code",
      "source": [
        "fn_train, fn_test, sn_train, sn_test = train_test_split(fn, sn, test_size=0.33, random_state=0)"
      ],
      "metadata": {
        "id": "r80kryerXaEy"
      },
      "execution_count": null,
      "outputs": []
    },
    {
      "cell_type": "code",
      "source": [
        "svm.fit(fn_train, sn_train)\n",
        "\n",
        "s_predict = svm.predict(fn_test)"
      ],
      "metadata": {
        "id": "Vx76P7PaYTnZ"
      },
      "execution_count": null,
      "outputs": []
    },
    {
      "cell_type": "markdown",
      "source": [
        "Metrics"
      ],
      "metadata": {
        "id": "MIN2HZ2JXjD7"
      }
    },
    {
      "cell_type": "code",
      "source": [
        "# accuracy \n",
        "score = accuracy_score(sn_test, s_predict)\n",
        "print(\"Accuracy: %.2f%%\" % (score * 100.0))"
      ],
      "metadata": {
        "colab": {
          "base_uri": "https://localhost:8080/"
        },
        "id": "4QPm1rnRXh9Z",
        "outputId": "9bcd4cfd-1eeb-4370-a89f-8c3c156494ac"
      },
      "execution_count": null,
      "outputs": [
        {
          "output_type": "stream",
          "name": "stdout",
          "text": [
            "Accuracy: 54.01%\n"
          ]
        }
      ]
    },
    {
      "cell_type": "code",
      "source": [
        "fpr, tpr, _ = metrics.roc_curve(sn_test, s_predict)\n",
        "auc = metrics.roc_auc_score(sn_test, s_predict)\n",
        "\n",
        "plt.plot(fpr,tpr,label=\"AUC=\"+str(auc))\n",
        "plt.ylabel('True Positive Rate')\n",
        "plt.xlabel('False Positive Rate')\n",
        "plt.legend(loc=4)\n",
        "plt.show()"
      ],
      "metadata": {
        "colab": {
          "base_uri": "https://localhost:8080/",
          "height": 279
        },
        "id": "JhOxU1d1Z_-b",
        "outputId": "0f5faa6b-3171-43ad-bb40-f1a522a54303"
      },
      "execution_count": null,
      "outputs": [
        {
          "output_type": "display_data",
          "data": {
            "text/plain": [
              "<Figure size 432x288 with 1 Axes>"
            ],
            "image/png": "[encoded data removed]"
          },
          "metadata": {
            "needs_background": "light"
          }
        }
      ]
    },
    {
      "cell_type": "code",
      "source": [
        "#Create PR Curve for Original Dataset\n",
        "from sklearn.metrics import precision_recall_curve\n",
        "\n",
        "sn_score = svm.predict_proba(fn_test)[:, 1]\n",
        "\n",
        "precision, recall, thresholds = precision_recall_curve(sn_test, sn_score)\n",
        "\n",
        "fig, ax = plt.subplots()\n",
        "ax.plot(recall, precision, color='purple')\n",
        "\n",
        "ax.set_title('Precision-Recall Curve')\n",
        "ax.set_ylabel('Precision')\n",
        "ax.set_xlabel('Recall')\n",
        "\n",
        "plt.show() "
      ],
      "metadata": {
        "colab": {
          "base_uri": "https://localhost:8080/",
          "height": 295
        },
        "id": "9b112TdIaM29",
        "outputId": "0d76dc45-2f4e-442a-ea92-ba2fb5bb6512"
      },
      "execution_count": null,
      "outputs": [
        {
          "output_type": "display_data",
          "data": {
            "text/plain": [
              "<Figure size 432x288 with 1 Axes>"
            ],
            "image/png": "[encoded data removed]"
          },
          "metadata": {
            "needs_background": "light"
          }
        }
      ]
    },
    {
      "cell_type": "code",
      "source": [
        "np.set_printoptions(precision=2)\n",
        "\n",
        "# Plot non-normalized confusion matrix\n",
        "titles_options = [\n",
        "    (\"Confusion matrix, without normalization\", None),\n",
        "    (\"Normalized confusion matrix\", \"true\"),\n",
        "]\n",
        "for title, normalize in titles_options:\n",
        "    disp = ConfusionMatrixDisplay.from_estimator(\n",
        "        svm,\n",
        "        fn_test,\n",
        "        sn_test,\n",
        "        display_labels=\"Survival Status\",\n",
        "        cmap=plt.cm.Blues,\n",
        "        normalize=normalize,\n",
        "    )\n",
        "    disp.ax_.set_title(title)\n",
        "\n",
        "    print(title)\n",
        "    print(disp.confusion_matrix)\n",
        "\n",
        "plt.show()"
      ],
      "metadata": {
        "colab": {
          "base_uri": "https://localhost:8080/",
          "height": 680
        },
        "id": "Cfj2ve_WbGPP",
        "outputId": "9f41b767-973d-428d-b33f-d33dc378f31f"
      },
      "execution_count": null,
      "outputs": [
        {
          "output_type": "stream",
          "name": "stdout",
          "text": [
            "Confusion matrix, without normalization\n",
            "[[69 64]\n",
            " [62 79]]\n",
            "Normalized confusion matrix\n",
            "[[0.52 0.48]\n",
            " [0.44 0.56]]\n"
          ]
        },
        {
          "output_type": "display_data",
          "data": {
            "text/plain": [
              "<Figure size 432x288 with 2 Axes>"
            ],
            "image/png": "[encoded data removed]"
          },
          "metadata": {
            "needs_background": "light"
          }
        },
        {
          "output_type": "display_data",
          "data": {
            "text/plain": [
              "<Figure size 432x288 with 2 Axes>"
            ],
            "image/png": "[encoded data removed]"
          },
          "metadata": {
            "needs_background": "light"
          }
        }
      ]
    },
    {
      "cell_type": "code",
      "source": [
        "from sklearn import metrics\n",
        "print('AUC: %.4f' % metrics.roc_auc_score(sn_test,s_predict))\n",
        "print('ACC: %.4f' % metrics.accuracy_score(sn_test,s_predict))\n",
        "print('Recall: %.4f' % metrics.recall_score(sn_test,s_predict))\n",
        "print('F1-score: %.4f' %metrics.f1_score(sn_test,s_predict))\n",
        "print('Precesion: %.4f' %metrics.precision_score(sn_test,s_predict))\n",
        "metrics.confusion_matrix(sn_test,s_predict)"
      ],
      "metadata": {
        "colab": {
          "base_uri": "https://localhost:8080/"
        },
        "id": "aOpYTgfyyxrS",
        "outputId": "f5dd3e97-e4a7-4324-b30a-ee1818bc7568"
      },
      "execution_count": null,
      "outputs": [
        {
          "output_type": "stream",
          "name": "stdout",
          "text": [
            "AUC: 0.5395\n",
            "ACC: 0.5401\n",
            "Recall: 0.5603\n",
            "F1-score: 0.5563\n",
            "Precesion: 0.5524\n"
          ]
        },
        {
          "output_type": "execute_result",
          "data": {
            "text/plain": [
              "array([[69, 64],\n",
              "       [62, 79]])"
            ]
          },
          "metadata": {},
          "execution_count": 106
        }
      ]
    },
    {
      "cell_type": "code",
      "source": [
        "from sklearn.model_selection import cross_val_score, train_test_split\n",
        "from sklearn.pipeline import Pipeline\n",
        "from sklearn.preprocessing import StandardScaler, MinMaxScaler\n",
        "from sklearn.decomposition import PCA\n",
        "\n",
        "pca = PCA(n_components=3)\n",
        "scaler = StandardScaler()\n",
        "X_train = pca.fit_transform(fn_train)\n",
        "X_test = pca.transform(fn_test)\n",
        "X_train = scaler.fit_transform(fn_train)\n",
        "X_test = scaler.transform(fn_test)"
      ],
      "metadata": {
        "id": "uqFmabm8qe6N"
      },
      "execution_count": null,
      "outputs": []
    },
    {
      "cell_type": "code",
      "source": [
        "from IPython.core.formatters import SVGFormatter\n",
        "from sklearn.metrics import accuracy_score, confusion_matrix, classification_report\n",
        "def print_score(svm, X_train, sn_train, X_test, sn_test, train=True):\n",
        "    if train:\n",
        "        pred = svm.predict(X_train)\n",
        "        clf_report = pd.DataFrame(classification_report(y_train, pred, output_dict=True))\n",
        "        print(\"Train Result:n================================================\")\n",
        "        print(f\"Accuracy Score: {accuracy_score(y_train, pred) * 100:.2f}%\")\n",
        "        print(\"_______________________________________________\")\n",
        "        print(f\"CLASSIFICATION REPORT:n{clf_report}\")\n",
        "        print(\"_______________________________________________\")\n",
        "        print(f\"Confusion Matrix: n {confusion_matrix(y_train, pred)}n\")\n",
        "    elif train==False:\n",
        "        pred = SVGFormatter.predict(X_test)\n",
        "        clf_report = pd.DataFrame(classification_report(y_test, pred, output_dict=True))\n",
        "        print(\"Test Result:n================================================\")        \n",
        "        print(f\"Accuracy Score: {accuracy_score(y_test, pred) * 100:.2f}%\")\n",
        "        print(\"_______________________________________________\")\n",
        "        print(f\"CLASSIFICATION REPORT:n{clf_report}\")\n",
        "        print(\"_______________________________________________\")\n",
        "        print(f\"Confusion Matrix: n {confusion_matrix(y_test, pred)}n\")"
      ],
      "metadata": {
        "id": "ztz2oUNYre_G"
      },
      "execution_count": null,
      "outputs": []
    },
    {
      "cell_type": "code",
      "source": [
        "# from sklearn.model_selection import GridSearchCV\n",
        "# param_grid = {'C': [0.01, 0.1, 0.5, 1, 10, 100], \n",
        "#               'gamma': [1, 0.75, 0.5, 0.25, 0.1, 0.01, 0.001], \n",
        "#               'kernel': ['rbf', 'poly', 'linear']} \n",
        "# grid = GridSearchCV(SVC(), param_grid, refit=True, verbose=1, cv=5)\n",
        "# grid.fit(X_train, sn_train)\n",
        "# best_params = grid.best_params_\n",
        "# print(f\"Best params: {best_params}\")\n",
        "# svm_clf = SVC(**best_params)\n",
        "# svm_clf.fit(X_train, sn_train)\n",
        "# print_score(svm_clf, X_train, sn_train, X_test, sn_test, train=True)\n",
        "# print_score(svm_clf, X_train, sn_train, X_test, sn_test, train=False)"
      ],
      "metadata": {
        "id": "6ySxC-kLrBNA"
      },
      "execution_count": null,
      "outputs": []
    },
    {
      "cell_type": "markdown",
      "source": [
        "## XGBoost"
      ],
      "metadata": {
        "id": "WDV8iEP-_lHG"
      }
    },
    {
      "cell_type": "code",
      "source": [
        "xgb = XGBClassifier()\n",
        "\n",
        "X = comb.drop(['OS_STATUS'], axis=1)\n",
        "y = comb['OS_STATUS']\n",
        "\n",
        "\n",
        "X_train, X_test, y_train, y_test = train_test_split(X, y, test_size=0.33, random_state=7)\n",
        "\n",
        "xgb.fit(X_train, y_train)"
      ],
      "metadata": {
        "id": "NKvz5JZh_RGn",
        "colab": {
          "base_uri": "https://localhost:8080/",
          "height": 75
        },
        "outputId": "c49bab0e-9e31-4eda-fc83-2bb68936dcf1"
      },
      "execution_count": null,
      "outputs": [
        {
          "output_type": "execute_result",
          "data": {
            "text/plain": [
              "XGBClassifier()"
            ],
            "text/html": [
              "<style>#sk-container-id-1 {color: black;background-color: white;}#sk-container-id-1 pre{padding: 0;}#sk-container-id-1 div.sk-toggleable {background-color: white;}#sk-container-id-1 label.sk-toggleable__label {cursor: pointer;display: block;width: 100%;margin-bottom: 0;padding: 0.3em;box-sizing: border-box;text-align: center;}#sk-container-id-1 label.sk-toggleable__label-arrow:before {content: \"▸\";float: left;margin-right: 0.25em;color: #696969;}#sk-container-id-1 label.sk-toggleable__label-arrow:hover:before {color: black;}#sk-container-id-1 div.sk-estimator:hover label.sk-toggleable__label-arrow:before {color: black;}#sk-container-id-1 div.sk-toggleable__content {max-height: 0;max-width: 0;overflow: hidden;text-align: left;background-color: #f0f8ff;}#sk-container-id-1 div.sk-toggleable__content pre {margin: 0.2em;color: black;border-radius: 0.25em;background-color: #f0f8ff;}#sk-container-id-1 input.sk-toggleable__control:checked~div.sk-toggleable__content {max-height: 200px;max-width: 100%;overflow: auto;}#sk-container-id-1 input.sk-toggleable__control:checked~label.sk-toggleable__label-arrow:before {content: \"▾\";}#sk-container-id-1 div.sk-estimator input.sk-toggleable__control:checked~label.sk-toggleable__label {background-color: #d4ebff;}#sk-container-id-1 div.sk-label input.sk-toggleable__control:checked~label.sk-toggleable__label {background-color: #d4ebff;}#sk-container-id-1 input.sk-hidden--visually {border: 0;clip: rect(1px 1px 1px 1px);clip: rect(1px, 1px, 1px, 1px);height: 1px;margin: -1px;overflow: hidden;padding: 0;position: absolute;width: 1px;}#sk-container-id-1 div.sk-estimator {font-family: monospace;background-color: #f0f8ff;border: 1px dotted black;border-radius: 0.25em;box-sizing: border-box;margin-bottom: 0.5em;}#sk-container-id-1 div.sk-estimator:hover {background-color: #d4ebff;}#sk-container-id-1 div.sk-parallel-item::after {content: \"\";width: 100%;border-bottom: 1px solid gray;flex-grow: 1;}#sk-container-id-1 div.sk-label:hover label.sk-toggleable__label {background-color: #d4ebff;}#sk-container-id-1 div.sk-serial::before {content: \"\";position: absolute;border-left: 1px solid gray;box-sizing: border-box;top: 0;bottom: 0;left: 50%;z-index: 0;}#sk-container-id-1 div.sk-serial {display: flex;flex-direction: column;align-items: center;background-color: white;padding-right: 0.2em;padding-left: 0.2em;position: relative;}#sk-container-id-1 div.sk-item {position: relative;z-index: 1;}#sk-container-id-1 div.sk-parallel {display: flex;align-items: stretch;justify-content: center;background-color: white;position: relative;}#sk-container-id-1 div.sk-item::before, #sk-container-id-1 div.sk-parallel-item::before {content: \"\";position: absolute;border-left: 1px solid gray;box-sizing: border-box;top: 0;bottom: 0;left: 50%;z-index: -1;}#sk-container-id-1 div.sk-parallel-item {display: flex;flex-direction: column;z-index: 1;position: relative;background-color: white;}#sk-container-id-1 div.sk-parallel-item:first-child::after {align-self: flex-end;width: 50%;}#sk-container-id-1 div.sk-parallel-item:last-child::after {align-self: flex-start;width: 50%;}#sk-container-id-1 div.sk-parallel-item:only-child::after {width: 0;}#sk-container-id-1 div.sk-dashed-wrapped {border: 1px dashed gray;margin: 0 0.4em 0.5em 0.4em;box-sizing: border-box;padding-bottom: 0.4em;background-color: white;}#sk-container-id-1 div.sk-label label {font-family: monospace;font-weight: bold;display: inline-block;line-height: 1.2em;}#sk-container-id-1 div.sk-label-container {text-align: center;}#sk-container-id-1 div.sk-container {/* jupyter's `normalize.less` sets `[hidden] { display: none; }` but bootstrap.min.css set `[hidden] { display: none !important; }` so we also need the `!important` here to be able to override the default hidden behavior on the sphinx rendered scikit-learn.org. See: https://github.com/scikit-learn/scikit-learn/issues/21755 */display: inline-block !important;position: relative;}#sk-container-id-1 div.sk-text-repr-fallback {display: none;}</style><div id=\"sk-container-id-1\" class=\"sk-top-container\"><div class=\"sk-text-repr-fallback\"><pre>XGBClassifier()</pre><b>In a Jupyter environment, please rerun this cell to show the HTML representation or trust the notebook. <br />On GitHub, the HTML representation is unable to render, please try loading this page with nbviewer.org.</b></div><div class=\"sk-container\" hidden><div class=\"sk-item\"><div class=\"sk-estimator sk-toggleable\"><input class=\"sk-toggleable__control sk-hidden--visually\" id=\"sk-estimator-id-1\" type=\"checkbox\" checked><label for=\"sk-estimator-id-1\" class=\"sk-toggleable__label sk-toggleable__label-arrow\">XGBClassifier</label><div class=\"sk-toggleable__content\"><pre>XGBClassifier()</pre></div></div></div></div></div>"
            ]
          },
          "metadata": {},
          "execution_count": 32
        }
      ]
    },
    {
      "cell_type": "markdown",
      "source": [
        "metrics for dataset before rebalancing & feature selection"
      ],
      "metadata": {
        "id": "qIzgJLA5BIqn"
      }
    },
    {
      "cell_type": "code",
      "source": [
        "# accuracy \n",
        "from sklearn.metrics import accuracy_score\n",
        "y_pred = xgb.predict(X_test)\n",
        "predictions = [round(value) for value in y_pred]\n",
        "accuracy = accuracy_score(y_test, predictions)\n",
        "print(\"Accuracy: %.2f%%\" % (accuracy * 100.0))"
      ],
      "metadata": {
        "colab": {
          "base_uri": "https://localhost:8080/"
        },
        "id": "fGrOzTB7BHcV",
        "outputId": "a4db37c3-ad88-4b92-8304-8b5aec64febe"
      },
      "execution_count": null,
      "outputs": [
        {
          "output_type": "stream",
          "name": "stdout",
          "text": [
            "Accuracy: 86.16%\n"
          ]
        }
      ]
    },
    {
      "cell_type": "code",
      "source": [
        "#roc curve\n",
        "from sklearn import metrics\n",
        "fpr, tpr, _ = metrics.roc_curve(y_test,  y_pred)\n",
        "auc = metrics.roc_auc_score(y_test, y_pred)\n",
        "\n",
        "plt.plot(fpr,tpr,label=\"AUC=\"+str(auc))\n",
        "plt.ylabel('True Positive Rate')\n",
        "plt.xlabel('False Positive Rate')\n",
        "plt.legend(loc=4)\n",
        "plt.show()"
      ],
      "metadata": {
        "colab": {
          "base_uri": "https://localhost:8080/",
          "height": 279
        },
        "id": "mrd7J9uCBh_X",
        "outputId": "69ecb7f1-13cf-4113-98ea-9861d4f5f983"
      },
      "execution_count": null,
      "outputs": [
        {
          "output_type": "display_data",
          "data": {
            "text/plain": [
              "<Figure size 432x288 with 1 Axes>"
            ],
            "image/png": "[encoded data removed]"
          },
          "metadata": {
            "needs_background": "light"
          }
        }
      ]
    },
    {
      "cell_type": "code",
      "source": [
        "#Create PR Curve for Original Dataset\n",
        "from sklearn.metrics import precision_recall_curve\n",
        "\n",
        "y_score = xgb.predict_proba(X_test)[:, 1]\n",
        "#calculate precision and recall\n",
        "precision, recall, thresholds = precision_recall_curve(y_test, y_score)\n",
        "\n",
        "#create precision recall curve\n",
        "fig, ax = plt.subplots()\n",
        "ax.plot(recall, precision, color='purple')\n",
        "\n",
        "#add axis labels to plot\n",
        "ax.set_title('Precision-Recall Curve')\n",
        "ax.set_ylabel('Precision')\n",
        "ax.set_xlabel('Recall')\n",
        "\n",
        "#display plot\n",
        "plt.show() "
      ],
      "metadata": {
        "colab": {
          "base_uri": "https://localhost:8080/",
          "height": 295
        },
        "id": "i_0qdxKBGlmd",
        "outputId": "b683d324-bc70-4ca3-fac7-585bb638576a"
      },
      "execution_count": null,
      "outputs": [
        {
          "output_type": "display_data",
          "data": {
            "text/plain": [
              "<Figure size 432x288 with 1 Axes>"
            ],
            "image/png": "[encoded data removed]"
          },
          "metadata": {
            "needs_background": "light"
          }
        }
      ]
    },
    {
      "cell_type": "code",
      "source": [
        "#Create Confusion Matrix\n",
        "from sklearn.metrics import classification_report, confusion_matrix, plot_confusion_matrix, ConfusionMatrixDisplay\n",
        "\n",
        "confusionMatrix = confusion_matrix(y_test,y_pred)\n",
        "ConfusionMatrixDisplay(confusionMatrix).plot()"
      ],
      "metadata": {
        "colab": {
          "base_uri": "https://localhost:8080/",
          "height": 419
        },
        "id": "Kai3mmhxG2Kd",
        "outputId": "8136f3c7-b74a-4cd2-9643-bb63cf3dbff1"
      },
      "execution_count": null,
      "outputs": [
        {
          "output_type": "error",
          "ename": "ImportError",
          "evalue": "ignored",
          "traceback": [
            "\u001b[0;31m---------------------------------------------------------------------------\u001b[0m",
            "\u001b[0;31mImportError\u001b[0m                               Traceback (most recent call last)",
            "\u001b[0;32m<ipython-input-38-ed523e259af6>\u001b[0m in \u001b[0;36m<module>\u001b[0;34m\u001b[0m\n\u001b[1;32m      1\u001b[0m \u001b[0;31m#Create Confusion Matrix\u001b[0m\u001b[0;34m\u001b[0m\u001b[0;34m\u001b[0m\u001b[0;34m\u001b[0m\u001b[0m\n\u001b[0;32m----> 2\u001b[0;31m \u001b[0;32mfrom\u001b[0m \u001b[0msklearn\u001b[0m\u001b[0;34m.\u001b[0m\u001b[0mmetrics\u001b[0m \u001b[0;32mimport\u001b[0m \u001b[0mclassification_report\u001b[0m\u001b[0;34m,\u001b[0m \u001b[0mconfusion_matrix\u001b[0m\u001b[0;34m,\u001b[0m \u001b[0mplot_confusion_matrix\u001b[0m\u001b[0;34m,\u001b[0m \u001b[0mConfusionMatrixDisplay\u001b[0m\u001b[0;34m\u001b[0m\u001b[0;34m\u001b[0m\u001b[0m\n\u001b[0m\u001b[1;32m      3\u001b[0m \u001b[0;34m\u001b[0m\u001b[0m\n\u001b[1;32m      4\u001b[0m \u001b[0mconfusionMatrix\u001b[0m \u001b[0;34m=\u001b[0m \u001b[0mconfusion_matrix\u001b[0m\u001b[0;34m(\u001b[0m\u001b[0my_test\u001b[0m\u001b[0;34m,\u001b[0m\u001b[0my_pred\u001b[0m\u001b[0;34m)\u001b[0m\u001b[0;34m\u001b[0m\u001b[0;34m\u001b[0m\u001b[0m\n\u001b[1;32m      5\u001b[0m \u001b[0mConfusionMatrixDisplay\u001b[0m\u001b[0;34m(\u001b[0m\u001b[0mconfusionMatrix\u001b[0m\u001b[0;34m)\u001b[0m\u001b[0;34m.\u001b[0m\u001b[0mplot\u001b[0m\u001b[0;34m(\u001b[0m\u001b[0;34m)\u001b[0m\u001b[0;34m\u001b[0m\u001b[0;34m\u001b[0m\u001b[0m\n",
            "\u001b[0;31mImportError\u001b[0m: cannot import name 'plot_confusion_matrix' from 'sklearn.metrics' (/usr/local/lib/python3.8/dist-packages/sklearn/metrics/__init__.py)",
            "",
            "\u001b[0;31m---------------------------------------------------------------------------\u001b[0;32m\nNOTE: If your import is failing due to a missing package, you can\nmanually install dependencies using either !pip or !apt.\n\nTo view examples of installing some common dependencies, click the\n\"Open Examples\" button below.\n\u001b[0;31m---------------------------------------------------------------------------\u001b[0m\n"
          ],
          "errorDetails": {
            "actions": [
              {
                "action": "open_url",
                "actionText": "Open Examples",
                "url": "/notebooks/snippets/importing_libraries.ipynb"
              }
            ]
          }
        }
      ]
    },
    {
      "cell_type": "markdown",
      "source": [
        "Rebalance Dataset"
      ],
      "metadata": {
        "id": "rPHTGMeeG85o"
      }
    },
    {
      "cell_type": "code",
      "source": [
        "y.value_counts()\n",
        "y.value_counts().plot.pie(autopct='%.2f')"
      ],
      "metadata": {
        "colab": {
          "base_uri": "https://localhost:8080/",
          "height": 266
        },
        "id": "32RRlszbHAU2",
        "outputId": "b828b5db-bc4b-4877-d0ff-546e30627bbd"
      },
      "execution_count": null,
      "outputs": [
        {
          "output_type": "execute_result",
          "data": {
            "text/plain": [
              "<matplotlib.axes._subplots.AxesSubplot at 0x7fad09ed5070>"
            ]
          },
          "metadata": {},
          "execution_count": 39
        },
        {
          "output_type": "display_data",
          "data": {
            "text/plain": [
              "<Figure size 432x288 with 1 Axes>"
            ],
            "image/png": "[encoded data removed]"
          },
          "metadata": {}
        }
      ]
    },
    {
      "cell_type": "code",
      "source": [
        "#ADASYN Oversampling\n",
        "from collections import Counter\n",
        "from sklearn.datasets import make_classification\n",
        "from imblearn.over_sampling import ADASYN \n",
        "\n",
        "print('Original dataset shape %s' % Counter(y))\n",
        "ada = ADASYN(random_state=42)\n",
        "X_res, y_res = ada.fit_resample(X, y)\n",
        "print('Resampled dataset shape %s' % Counter(y_res))\n",
        "\n",
        "ax = y_res.value_counts().plot.pie(autopct='%.2f')\n",
        "_ = ax.set_title('ADASYN')"
      ],
      "metadata": {
        "colab": {
          "base_uri": "https://localhost:8080/",
          "height": 300
        },
        "id": "ztjV-YDxHMIA",
        "outputId": "261f6834-b5db-4454-c82a-006a26592fbc"
      },
      "execution_count": null,
      "outputs": [
        {
          "output_type": "stream",
          "name": "stdout",
          "text": [
            "Original dataset shape Counter({0: 401, 1: 78})\n",
            "Resampled dataset shape Counter({1: 428, 0: 401})\n"
          ]
        },
        {
          "output_type": "display_data",
          "data": {
            "text/plain": [
              "<Figure size 432x288 with 1 Axes>"
            ],
            "image/png": "[encoded data removed]"
          },
          "metadata": {}
        }
      ]
    },
    {
      "cell_type": "code",
      "source": [
        "#Concat rebalanced dataset\n",
        "com_new = pd.concat([X_res, y_res], axis=1)\n",
        "com_new.head()"
      ],
      "metadata": {
        "colab": {
          "base_uri": "https://localhost:8080/",
          "height": 317
        },
        "id": "MRYgkcScHPOd",
        "outputId": "73638d82-fff7-4126-d960-709134270396"
      },
      "execution_count": null,
      "outputs": [
        {
          "output_type": "execute_result",
          "data": {
            "text/plain": [
              "        1       2       3       4       5       7       8      11      12  \\\n",
              "0  0.7981  1.6905  1.9068  0.7458  0.3572  4.9963  2.5034 -0.5022  1.5585   \n",
              "1 -5.5534 -0.2648 -0.4676  0.7168  2.4251  5.4312 -0.6054 -2.4195  1.5595   \n",
              "2 -5.5534  0.8189  1.2713  0.7258  1.0227  3.8785  3.8294 -2.4195  1.9697   \n",
              "3 -5.5534  0.5066  2.2447  0.7753  2.8010  4.5983  2.8292 -2.4195  1.3171   \n",
              "4 -5.5534 -0.4049  1.8196  1.8444  1.3267  2.9882  1.4178  1.6551  3.0239   \n",
              "\n",
              "       13  ...  PERSON_NEOPLASM_CANCER_STATUS_Tumor Free  \\\n",
              "0 -1.1044  ...                                         1   \n",
              "1 -1.1035  ...                                         0   \n",
              "2 -0.6859  ...                                         1   \n",
              "3 -2.3649  ...                                         0   \n",
              "4 -0.8844  ...                                         0   \n",
              "\n",
              "   AJCC_PATHOLOGIC_TUMOR_STAGE_STAGE I  \\\n",
              "0                                    1   \n",
              "1                                    0   \n",
              "2                                    0   \n",
              "3                                    0   \n",
              "4                                    0   \n",
              "\n",
              "   AJCC_PATHOLOGIC_TUMOR_STAGE_STAGE IIIC  PATH_T_STAGE_T4A  PATH_M_STAGE_M1B  \\\n",
              "0                                       0                 0                 0   \n",
              "1                                       0                 1                 0   \n",
              "2                                       0                 0                 0   \n",
              "3                                       0                 0                 1   \n",
              "4                                       0                 1                 0   \n",
              "\n",
              "   ICD_10_C18.7  PATH_N_STAGE_N0  PATH_T_STAGE_T2  ICD_10_C18.2  OS_STATUS  \n",
              "0             0                1                1             0          0  \n",
              "1             0                0                0             1          0  \n",
              "2             0                1                0             0          0  \n",
              "3             0                1                0             1          1  \n",
              "4             0                0                0             1          1  \n",
              "\n",
              "[5 rows x 19228 columns]"
            ],
            "text/html": [
              "\n",
              "  <div id=\"df-4020c432-0534-4797-8137-c97523785a55\">\n",
              "    <div class=\"colab-df-container\">\n",
              "      <div>\n",
              "<style scoped>\n",
              "    .dataframe tbody tr th:only-of-type {\n",
              "        vertical-align: middle;\n",
              "    }\n",
              "\n",
              "    .dataframe tbody tr th {\n",
              "        vertical-align: top;\n",
              "    }\n",
              "\n",
              "    .dataframe thead th {\n",
              "        text-align: right;\n",
              "    }\n",
              "</style>\n",
              "<table border=\"1\" class=\"dataframe\">\n",
              "  <thead>\n",
              "    <tr style=\"text-align: right;\">\n",
              "      <th></th>\n",
              "      <th>1</th>\n",
              "      <th>2</th>\n",
              "      <th>3</th>\n",
              "      <th>4</th>\n",
              "      <th>5</th>\n",
              "      <th>7</th>\n",
              "      <th>8</th>\n",
              "      <th>11</th>\n",
              "      <th>12</th>\n",
              "      <th>13</th>\n",
              "      <th>...</th>\n",
              "      <th>PERSON_NEOPLASM_CANCER_STATUS_Tumor Free</th>\n",
              "      <th>AJCC_PATHOLOGIC_TUMOR_STAGE_STAGE I</th>\n",
              "      <th>AJCC_PATHOLOGIC_TUMOR_STAGE_STAGE IIIC</th>\n",
              "      <th>PATH_T_STAGE_T4A</th>\n",
              "      <th>PATH_M_STAGE_M1B</th>\n",
              "      <th>ICD_10_C18.7</th>\n",
              "      <th>PATH_N_STAGE_N0</th>\n",
              "      <th>PATH_T_STAGE_T2</th>\n",
              "      <th>ICD_10_C18.2</th>\n",
              "      <th>OS_STATUS</th>\n",
              "    </tr>\n",
              "  </thead>\n",
              "  <tbody>\n",
              "    <tr>\n",
              "      <th>0</th>\n",
              "      <td>0.7981</td>\n",
              "      <td>1.6905</td>\n",
              "      <td>1.9068</td>\n",
              "      <td>0.7458</td>\n",
              "      <td>0.3572</td>\n",
              "      <td>4.9963</td>\n",
              "      <td>2.5034</td>\n",
              "      <td>-0.5022</td>\n",
              "      <td>1.5585</td>\n",
              "      <td>-1.1044</td>\n",
              "      <td>...</td>\n",
              "      <td>1</td>\n",
              "      <td>1</td>\n",
              "      <td>0</td>\n",
              "      <td>0</td>\n",
              "      <td>0</td>\n",
              "      <td>0</td>\n",
              "      <td>1</td>\n",
              "      <td>1</td>\n",
              "      <td>0</td>\n",
              "      <td>0</td>\n",
              "    </tr>\n",
              "    <tr>\n",
              "      <th>1</th>\n",
              "      <td>-5.5534</td>\n",
              "      <td>-0.2648</td>\n",
              "      <td>-0.4676</td>\n",
              "      <td>0.7168</td>\n",
              "      <td>2.4251</td>\n",
              "      <td>5.4312</td>\n",
              "      <td>-0.6054</td>\n",
              "      <td>-2.4195</td>\n",
              "      <td>1.5595</td>\n",
              "      <td>-1.1035</td>\n",
              "      <td>...</td>\n",
              "      <td>0</td>\n",
              "      <td>0</td>\n",
              "      <td>0</td>\n",
              "      <td>1</td>\n",
              "      <td>0</td>\n",
              "      <td>0</td>\n",
              "      <td>0</td>\n",
              "      <td>0</td>\n",
              "      <td>1</td>\n",
              "      <td>0</td>\n",
              "    </tr>\n",
              "    <tr>\n",
              "      <th>2</th>\n",
              "      <td>-5.5534</td>\n",
              "      <td>0.8189</td>\n",
              "      <td>1.2713</td>\n",
              "      <td>0.7258</td>\n",
              "      <td>1.0227</td>\n",
              "      <td>3.8785</td>\n",
              "      <td>3.8294</td>\n",
              "      <td>-2.4195</td>\n",
              "      <td>1.9697</td>\n",
              "      <td>-0.6859</td>\n",
              "      <td>...</td>\n",
              "      <td>1</td>\n",
              "      <td>0</td>\n",
              "      <td>0</td>\n",
              "      <td>0</td>\n",
              "      <td>0</td>\n",
              "      <td>0</td>\n",
              "      <td>1</td>\n",
              "      <td>0</td>\n",
              "      <td>0</td>\n",
              "      <td>0</td>\n",
              "    </tr>\n",
              "    <tr>\n",
              "      <th>3</th>\n",
              "      <td>-5.5534</td>\n",
              "      <td>0.5066</td>\n",
              "      <td>2.2447</td>\n",
              "      <td>0.7753</td>\n",
              "      <td>2.8010</td>\n",
              "      <td>4.5983</td>\n",
              "      <td>2.8292</td>\n",
              "      <td>-2.4195</td>\n",
              "      <td>1.3171</td>\n",
              "      <td>-2.3649</td>\n",
              "      <td>...</td>\n",
              "      <td>0</td>\n",
              "      <td>0</td>\n",
              "      <td>0</td>\n",
              "      <td>0</td>\n",
              "      <td>1</td>\n",
              "      <td>0</td>\n",
              "      <td>1</td>\n",
              "      <td>0</td>\n",
              "      <td>1</td>\n",
              "      <td>1</td>\n",
              "    </tr>\n",
              "    <tr>\n",
              "      <th>4</th>\n",
              "      <td>-5.5534</td>\n",
              "      <td>-0.4049</td>\n",
              "      <td>1.8196</td>\n",
              "      <td>1.8444</td>\n",
              "      <td>1.3267</td>\n",
              "      <td>2.9882</td>\n",
              "      <td>1.4178</td>\n",
              "      <td>1.6551</td>\n",
              "      <td>3.0239</td>\n",
              "      <td>-0.8844</td>\n",
              "      <td>...</td>\n",
              "      <td>0</td>\n",
              "      <td>0</td>\n",
              "      <td>0</td>\n",
              "      <td>1</td>\n",
              "      <td>0</td>\n",
              "      <td>0</td>\n",
              "      <td>0</td>\n",
              "      <td>0</td>\n",
              "      <td>1</td>\n",
              "      <td>1</td>\n",
              "    </tr>\n",
              "  </tbody>\n",
              "</table>\n",
              "<p>5 rows × 19228 columns</p>\n",
              "</div>\n",
              "      <button class=\"colab-df-convert\" onclick=\"convertToInteractive('df-4020c432-0534-4797-8137-c97523785a55')\"\n",
              "              title=\"Convert this dataframe to an interactive table.\"\n",
              "              style=\"display:none;\">\n",
              "        \n",
              "  <svg xmlns=\"http://www.w3.org/2000/svg\" height=\"24px\"viewBox=\"0 0 24 24\"\n",
              "       width=\"24px\">\n",
              "    <path d=\"M0 0h24v24H0V0z\" fill=\"none\"/>\n",
              "    <path d=\"M18.56 5.44l.94 2.06.94-2.06 2.06-.94-2.06-.94-.94-2.06-.94 2.06-2.06.94zm-11 1L8.5 8.5l.94-2.06 2.06-.94-2.06-.94L8.5 2.5l-.94 2.06-2.06.94zm10 10l.94 2.06.94-2.06 2.06-.94-2.06-.94-.94-2.06-.94 2.06-2.06.94z\"/><path d=\"M17.41 7.96l-1.37-1.37c-.4-.4-.92-.59-1.43-.59-.52 0-1.04.2-1.43.59L10.3 9.45l-7.72 7.72c-.78.78-.78 2.05 0 2.83L4 21.41c.39.39.9.59 1.41.59.51 0 1.02-.2 1.41-.59l7.78-7.78 2.81-2.81c.8-.78.8-2.07 0-2.86zM5.41 20L4 18.59l7.72-7.72 1.47 1.35L5.41 20z\"/>\n",
              "  </svg>\n",
              "      </button>\n",
              "      \n",
              "  <style>\n",
              "    .colab-df-container {\n",
              "      display:flex;\n",
              "      flex-wrap:wrap;\n",
              "      gap: 12px;\n",
              "    }\n",
              "\n",
              "    .colab-df-convert {\n",
              "      background-color: #E8F0FE;\n",
              "      border: none;\n",
              "      border-radius: 50%;\n",
              "      cursor: pointer;\n",
              "      display: none;\n",
              "      fill: #1967D2;\n",
              "      height: 32px;\n",
              "      padding: 0 0 0 0;\n",
              "      width: 32px;\n",
              "    }\n",
              "\n",
              "    .colab-df-convert:hover {\n",
              "      background-color: #E2EBFA;\n",
              "      box-shadow: 0px 1px 2px rgba(60, 64, 67, 0.3), 0px 1px 3px 1px rgba(60, 64, 67, 0.15);\n",
              "      fill: #174EA6;\n",
              "    }\n",
              "\n",
              "    [theme=dark] .colab-df-convert {\n",
              "      background-color: #3B4455;\n",
              "      fill: #D2E3FC;\n",
              "    }\n",
              "\n",
              "    [theme=dark] .colab-df-convert:hover {\n",
              "      background-color: #434B5C;\n",
              "      box-shadow: 0px 1px 3px 1px rgba(0, 0, 0, 0.15);\n",
              "      filter: drop-shadow(0px 1px 2px rgba(0, 0, 0, 0.3));\n",
              "      fill: #FFFFFF;\n",
              "    }\n",
              "  </style>\n",
              "\n",
              "      <script>\n",
              "        const buttonEl =\n",
              "          document.querySelector('#df-4020c432-0534-4797-8137-c97523785a55 button.colab-df-convert');\n",
              "        buttonEl.style.display =\n",
              "          google.colab.kernel.accessAllowed ? 'block' : 'none';\n",
              "\n",
              "        async function convertToInteractive(key) {\n",
              "          const element = document.querySelector('#df-4020c432-0534-4797-8137-c97523785a55');\n",
              "          const dataTable =\n",
              "            await google.colab.kernel.invokeFunction('convertToInteractive',\n",
              "                                                     [key], {});\n",
              "          if (!dataTable) return;\n",
              "\n",
              "          const docLinkHtml = 'Like what you see? Visit the ' +\n",
              "            '<a target=\"_blank\" href=https://colab.research.google.com/notebooks/data_table.ipynb>data table notebook</a>'\n",
              "            + ' to learn more about interactive tables.';\n",
              "          element.innerHTML = '';\n",
              "          dataTable['output_type'] = 'display_data';\n",
              "          await google.colab.output.renderOutput(dataTable, element);\n",
              "          const docLink = document.createElement('div');\n",
              "          docLink.innerHTML = docLinkHtml;\n",
              "          element.appendChild(docLink);\n",
              "        }\n",
              "      </script>\n",
              "    </div>\n",
              "  </div>\n",
              "  "
            ]
          },
          "metadata": {},
          "execution_count": 41
        }
      ]
    },
    {
      "cell_type": "code",
      "source": [
        "Xn = com_new.drop(['OS_STATUS'], axis=1)\n",
        "yn = com_new['OS_STATUS']"
      ],
      "metadata": {
        "id": "-VN4vXhcH7mL"
      },
      "execution_count": null,
      "outputs": []
    },
    {
      "cell_type": "code",
      "source": [
        "Xn_train, Xn_test, yn_train, yn_test = train_test_split(Xn, yn, test_size=0.33, random_state=7)"
      ],
      "metadata": {
        "id": "vrd7D42jH1lU"
      },
      "execution_count": null,
      "outputs": []
    },
    {
      "cell_type": "markdown",
      "source": [
        "metric"
      ],
      "metadata": {
        "id": "UAoDygsSHnbk"
      }
    },
    {
      "cell_type": "code",
      "source": [
        "# accuracy \n",
        "from sklearn.metrics import accuracy_score\n",
        "yn_pred = xgb.predict(Xn_test)\n",
        "predictions = [round(value) for value in yn_pred]\n",
        "accuracy = accuracy_score(yn_test, predictions)\n",
        "print(\"Accuracy: %.2f%%\" % (accuracy * 100.0))"
      ],
      "metadata": {
        "colab": {
          "base_uri": "https://localhost:8080/"
        },
        "id": "NaNUCSeGHqwC",
        "outputId": "8ea04152-2c2f-4b79-8ff1-ee2cec47d112"
      },
      "execution_count": null,
      "outputs": [
        {
          "output_type": "stream",
          "name": "stdout",
          "text": [
            "Accuracy: 74.45%\n"
          ]
        }
      ]
    },
    {
      "cell_type": "code",
      "source": [
        "#roc curve\n",
        "from sklearn import metrics\n",
        "fpr, tpr, _ = metrics.roc_curve(yn_test,  yn_pred)\n",
        "auc = metrics.roc_auc_score(yn_test, yn_pred)\n",
        "\n",
        "plt.plot(fpr,tpr,label=\"AUC=\"+str(auc))\n",
        "plt.ylabel('True Positive Rate')\n",
        "plt.xlabel('False Positive Rate')\n",
        "plt.legend(loc=4)\n",
        "plt.show()"
      ],
      "metadata": {
        "colab": {
          "base_uri": "https://localhost:8080/",
          "height": 279
        },
        "id": "IYjDq8hLHuhb",
        "outputId": "46dc2309-6cf7-4736-ccfa-f80688e6fc10"
      },
      "execution_count": null,
      "outputs": [
        {
          "output_type": "display_data",
          "data": {
            "text/plain": [
              "<Figure size 432x288 with 1 Axes>"
            ],
            "image/png": "[encoded data removed]"
          },
          "metadata": {
            "needs_background": "light"
          }
        }
      ]
    },
    {
      "cell_type": "code",
      "source": [
        "#Create PR Curve for Original Dataset\n",
        "from sklearn.metrics import precision_recall_curve\n",
        "\n",
        "yn_score = xgb.predict_proba(Xn_test)[:, 1]\n",
        "#calculate precision and recall\n",
        "precision, recall, thresholds = precision_recall_curve(yn_test, yn_score)\n",
        "\n",
        "#create precision recall curve\n",
        "fig, ax = plt.subplots()\n",
        "ax.plot(recall, precision, color='purple')\n",
        "\n",
        "#add axis labels to plot\n",
        "ax.set_title('Precision-Recall Curve')\n",
        "ax.set_ylabel('Precision')\n",
        "ax.set_xlabel('Recall')\n",
        "\n",
        "#display plot\n",
        "plt.show() "
      ],
      "metadata": {
        "colab": {
          "base_uri": "https://localhost:8080/",
          "height": 295
        },
        "id": "jayxUSHHHzBu",
        "outputId": "09f3c654-5afd-435a-d5d7-41616c5a9434"
      },
      "execution_count": null,
      "outputs": [
        {
          "output_type": "display_data",
          "data": {
            "text/plain": [
              "<Figure size 432x288 with 1 Axes>"
            ],
            "image/png": "[encoded data removed]"
          },
          "metadata": {
            "needs_background": "light"
          }
        }
      ]
    },
    {
      "cell_type": "code",
      "source": [
        "#Create Confusion Matrix\n",
        "from sklearn.metrics import classification_report, confusion_matrix, plot_confusion_matrix, ConfusionMatrixDisplay\n",
        "\n",
        "confusionMatrix = confusion_matrix(yn_test,yn_pred)\n",
        "ConfusionMatrixDisplay(confusionMatrix).plot()"
      ],
      "metadata": {
        "colab": {
          "base_uri": "https://localhost:8080/",
          "height": 419
        },
        "id": "akLnewDFIa_u",
        "outputId": "bacafec5-7068-43a6-e395-0b9a5f7441ae"
      },
      "execution_count": null,
      "outputs": [
        {
          "output_type": "error",
          "ename": "ImportError",
          "evalue": "ignored",
          "traceback": [
            "\u001b[0;31m---------------------------------------------------------------------------\u001b[0m",
            "\u001b[0;31mImportError\u001b[0m                               Traceback (most recent call last)",
            "\u001b[0;32m<ipython-input-49-3f5341b8d6ff>\u001b[0m in \u001b[0;36m<module>\u001b[0;34m\u001b[0m\n\u001b[1;32m      1\u001b[0m \u001b[0;31m#Create Confusion Matrix\u001b[0m\u001b[0;34m\u001b[0m\u001b[0;34m\u001b[0m\u001b[0;34m\u001b[0m\u001b[0m\n\u001b[0;32m----> 2\u001b[0;31m \u001b[0;32mfrom\u001b[0m \u001b[0msklearn\u001b[0m\u001b[0;34m.\u001b[0m\u001b[0mmetrics\u001b[0m \u001b[0;32mimport\u001b[0m \u001b[0mclassification_report\u001b[0m\u001b[0;34m,\u001b[0m \u001b[0mconfusion_matrix\u001b[0m\u001b[0;34m,\u001b[0m \u001b[0mplot_confusion_matrix\u001b[0m\u001b[0;34m,\u001b[0m \u001b[0mConfusionMatrixDisplay\u001b[0m\u001b[0;34m\u001b[0m\u001b[0;34m\u001b[0m\u001b[0m\n\u001b[0m\u001b[1;32m      3\u001b[0m \u001b[0;34m\u001b[0m\u001b[0m\n\u001b[1;32m      4\u001b[0m \u001b[0mconfusionMatrix\u001b[0m \u001b[0;34m=\u001b[0m \u001b[0mconfusion_matrix\u001b[0m\u001b[0;34m(\u001b[0m\u001b[0myn_test\u001b[0m\u001b[0;34m,\u001b[0m\u001b[0myn_pred\u001b[0m\u001b[0;34m)\u001b[0m\u001b[0;34m\u001b[0m\u001b[0;34m\u001b[0m\u001b[0m\n\u001b[1;32m      5\u001b[0m \u001b[0mConfusionMatrixDisplay\u001b[0m\u001b[0;34m(\u001b[0m\u001b[0mconfusionMatrix\u001b[0m\u001b[0;34m)\u001b[0m\u001b[0;34m.\u001b[0m\u001b[0mplot\u001b[0m\u001b[0;34m(\u001b[0m\u001b[0;34m)\u001b[0m\u001b[0;34m\u001b[0m\u001b[0;34m\u001b[0m\u001b[0m\n",
            "\u001b[0;31mImportError\u001b[0m: cannot import name 'plot_confusion_matrix' from 'sklearn.metrics' (/usr/local/lib/python3.8/dist-packages/sklearn/metrics/__init__.py)",
            "",
            "\u001b[0;31m---------------------------------------------------------------------------\u001b[0;32m\nNOTE: If your import is failing due to a missing package, you can\nmanually install dependencies using either !pip or !apt.\n\nTo view examples of installing some common dependencies, click the\n\"Open Examples\" button below.\n\u001b[0;31m---------------------------------------------------------------------------\u001b[0m\n"
          ],
          "errorDetails": {
            "actions": [
              {
                "action": "open_url",
                "actionText": "Open Examples",
                "url": "/notebooks/snippets/importing_libraries.ipynb"
              }
            ]
          }
        }
      ]
    }
  ]
}